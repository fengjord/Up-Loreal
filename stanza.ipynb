{
  "nbformat": 4,
  "nbformat_minor": 0,
  "metadata": {
    "kernelspec": {
      "display_name": "Python 3",
      "language": "python",
      "name": "python3"
    },
    "language_info": {
      "codemirror_mode": {
        "name": "ipython",
        "version": 3
      },
      "file_extension": ".py",
      "mimetype": "text/x-python",
      "name": "python",
      "nbconvert_exporter": "python",
      "pygments_lexer": "ipython3",
      "version": "3.8.3"
    },
    "colab": {
      "name": "stanza.ipynb",
      "provenance": [],
      "collapsed_sections": []
    },
    "widgets": {
      "application/vnd.jupyter.widget-state+json": {
        "95567f54199d479cbe40e12e690ea8f2": {
          "model_module": "@jupyter-widgets/controls",
          "model_name": "HBoxModel",
          "model_module_version": "1.5.0",
          "state": {
            "_view_name": "HBoxView",
            "_dom_classes": [],
            "_model_name": "HBoxModel",
            "_view_module": "@jupyter-widgets/controls",
            "_model_module_version": "1.5.0",
            "_view_count": null,
            "_view_module_version": "1.5.0",
            "box_style": "",
            "layout": "IPY_MODEL_0103961a306c477aa6d1deb2edb00cb6",
            "_model_module": "@jupyter-widgets/controls",
            "children": [
              "IPY_MODEL_67474fe2ab7144c693c0ac672bca7b3b",
              "IPY_MODEL_ed48d690e7174e19a0195f80919607de",
              "IPY_MODEL_02bd20a4e19343e9872def6dd67e11b2"
            ]
          }
        },
        "0103961a306c477aa6d1deb2edb00cb6": {
          "model_module": "@jupyter-widgets/base",
          "model_name": "LayoutModel",
          "model_module_version": "1.2.0",
          "state": {
            "_view_name": "LayoutView",
            "grid_template_rows": null,
            "right": null,
            "justify_content": null,
            "_view_module": "@jupyter-widgets/base",
            "overflow": null,
            "_model_module_version": "1.2.0",
            "_view_count": null,
            "flex_flow": null,
            "width": null,
            "min_width": null,
            "border": null,
            "align_items": null,
            "bottom": null,
            "_model_module": "@jupyter-widgets/base",
            "top": null,
            "grid_column": null,
            "overflow_y": null,
            "overflow_x": null,
            "grid_auto_flow": null,
            "grid_area": null,
            "grid_template_columns": null,
            "flex": null,
            "_model_name": "LayoutModel",
            "justify_items": null,
            "grid_row": null,
            "max_height": null,
            "align_content": null,
            "visibility": null,
            "align_self": null,
            "height": null,
            "min_height": null,
            "padding": null,
            "grid_auto_rows": null,
            "grid_gap": null,
            "max_width": null,
            "order": null,
            "_view_module_version": "1.2.0",
            "grid_template_areas": null,
            "object_position": null,
            "object_fit": null,
            "grid_auto_columns": null,
            "margin": null,
            "display": null,
            "left": null
          }
        },
        "67474fe2ab7144c693c0ac672bca7b3b": {
          "model_module": "@jupyter-widgets/controls",
          "model_name": "HTMLModel",
          "model_module_version": "1.5.0",
          "state": {
            "_view_name": "HTMLView",
            "style": "IPY_MODEL_cdb9f861c3d04e0580ea27d0b5fc83c2",
            "_dom_classes": [],
            "description": "",
            "_model_name": "HTMLModel",
            "placeholder": "​",
            "_view_module": "@jupyter-widgets/controls",
            "_model_module_version": "1.5.0",
            "value": "Downloading https://raw.githubusercontent.com/stanfordnlp/stanza-resources/main/resources_1.3.0.json: ",
            "_view_count": null,
            "_view_module_version": "1.5.0",
            "description_tooltip": null,
            "_model_module": "@jupyter-widgets/controls",
            "layout": "IPY_MODEL_46e63ca50a4a4456a0ad04db584747c3"
          }
        },
        "ed48d690e7174e19a0195f80919607de": {
          "model_module": "@jupyter-widgets/controls",
          "model_name": "FloatProgressModel",
          "model_module_version": "1.5.0",
          "state": {
            "_view_name": "ProgressView",
            "style": "IPY_MODEL_38e541f9c3c64df0ad72092e454738a0",
            "_dom_classes": [],
            "description": "",
            "_model_name": "FloatProgressModel",
            "bar_style": "success",
            "max": 24459,
            "_view_module": "@jupyter-widgets/controls",
            "_model_module_version": "1.5.0",
            "value": 24459,
            "_view_count": null,
            "_view_module_version": "1.5.0",
            "orientation": "horizontal",
            "min": 0,
            "description_tooltip": null,
            "_model_module": "@jupyter-widgets/controls",
            "layout": "IPY_MODEL_bffd510916834a20b84c48d263392fab"
          }
        },
        "02bd20a4e19343e9872def6dd67e11b2": {
          "model_module": "@jupyter-widgets/controls",
          "model_name": "HTMLModel",
          "model_module_version": "1.5.0",
          "state": {
            "_view_name": "HTMLView",
            "style": "IPY_MODEL_586011dafab546d091cfcbbcd2e0e937",
            "_dom_classes": [],
            "description": "",
            "_model_name": "HTMLModel",
            "placeholder": "​",
            "_view_module": "@jupyter-widgets/controls",
            "_model_module_version": "1.5.0",
            "value": " 142k/? [00:00&lt;00:00, 2.64MB/s]",
            "_view_count": null,
            "_view_module_version": "1.5.0",
            "description_tooltip": null,
            "_model_module": "@jupyter-widgets/controls",
            "layout": "IPY_MODEL_7bddeeb374ae43fcbc9632ebee043e51"
          }
        },
        "cdb9f861c3d04e0580ea27d0b5fc83c2": {
          "model_module": "@jupyter-widgets/controls",
          "model_name": "DescriptionStyleModel",
          "model_module_version": "1.5.0",
          "state": {
            "_view_name": "StyleView",
            "_model_name": "DescriptionStyleModel",
            "description_width": "",
            "_view_module": "@jupyter-widgets/base",
            "_model_module_version": "1.5.0",
            "_view_count": null,
            "_view_module_version": "1.2.0",
            "_model_module": "@jupyter-widgets/controls"
          }
        },
        "46e63ca50a4a4456a0ad04db584747c3": {
          "model_module": "@jupyter-widgets/base",
          "model_name": "LayoutModel",
          "model_module_version": "1.2.0",
          "state": {
            "_view_name": "LayoutView",
            "grid_template_rows": null,
            "right": null,
            "justify_content": null,
            "_view_module": "@jupyter-widgets/base",
            "overflow": null,
            "_model_module_version": "1.2.0",
            "_view_count": null,
            "flex_flow": null,
            "width": null,
            "min_width": null,
            "border": null,
            "align_items": null,
            "bottom": null,
            "_model_module": "@jupyter-widgets/base",
            "top": null,
            "grid_column": null,
            "overflow_y": null,
            "overflow_x": null,
            "grid_auto_flow": null,
            "grid_area": null,
            "grid_template_columns": null,
            "flex": null,
            "_model_name": "LayoutModel",
            "justify_items": null,
            "grid_row": null,
            "max_height": null,
            "align_content": null,
            "visibility": null,
            "align_self": null,
            "height": null,
            "min_height": null,
            "padding": null,
            "grid_auto_rows": null,
            "grid_gap": null,
            "max_width": null,
            "order": null,
            "_view_module_version": "1.2.0",
            "grid_template_areas": null,
            "object_position": null,
            "object_fit": null,
            "grid_auto_columns": null,
            "margin": null,
            "display": null,
            "left": null
          }
        },
        "38e541f9c3c64df0ad72092e454738a0": {
          "model_module": "@jupyter-widgets/controls",
          "model_name": "ProgressStyleModel",
          "model_module_version": "1.5.0",
          "state": {
            "_view_name": "StyleView",
            "_model_name": "ProgressStyleModel",
            "description_width": "",
            "_view_module": "@jupyter-widgets/base",
            "_model_module_version": "1.5.0",
            "_view_count": null,
            "_view_module_version": "1.2.0",
            "bar_color": null,
            "_model_module": "@jupyter-widgets/controls"
          }
        },
        "bffd510916834a20b84c48d263392fab": {
          "model_module": "@jupyter-widgets/base",
          "model_name": "LayoutModel",
          "model_module_version": "1.2.0",
          "state": {
            "_view_name": "LayoutView",
            "grid_template_rows": null,
            "right": null,
            "justify_content": null,
            "_view_module": "@jupyter-widgets/base",
            "overflow": null,
            "_model_module_version": "1.2.0",
            "_view_count": null,
            "flex_flow": null,
            "width": null,
            "min_width": null,
            "border": null,
            "align_items": null,
            "bottom": null,
            "_model_module": "@jupyter-widgets/base",
            "top": null,
            "grid_column": null,
            "overflow_y": null,
            "overflow_x": null,
            "grid_auto_flow": null,
            "grid_area": null,
            "grid_template_columns": null,
            "flex": null,
            "_model_name": "LayoutModel",
            "justify_items": null,
            "grid_row": null,
            "max_height": null,
            "align_content": null,
            "visibility": null,
            "align_self": null,
            "height": null,
            "min_height": null,
            "padding": null,
            "grid_auto_rows": null,
            "grid_gap": null,
            "max_width": null,
            "order": null,
            "_view_module_version": "1.2.0",
            "grid_template_areas": null,
            "object_position": null,
            "object_fit": null,
            "grid_auto_columns": null,
            "margin": null,
            "display": null,
            "left": null
          }
        },
        "586011dafab546d091cfcbbcd2e0e937": {
          "model_module": "@jupyter-widgets/controls",
          "model_name": "DescriptionStyleModel",
          "model_module_version": "1.5.0",
          "state": {
            "_view_name": "StyleView",
            "_model_name": "DescriptionStyleModel",
            "description_width": "",
            "_view_module": "@jupyter-widgets/base",
            "_model_module_version": "1.5.0",
            "_view_count": null,
            "_view_module_version": "1.2.0",
            "_model_module": "@jupyter-widgets/controls"
          }
        },
        "7bddeeb374ae43fcbc9632ebee043e51": {
          "model_module": "@jupyter-widgets/base",
          "model_name": "LayoutModel",
          "model_module_version": "1.2.0",
          "state": {
            "_view_name": "LayoutView",
            "grid_template_rows": null,
            "right": null,
            "justify_content": null,
            "_view_module": "@jupyter-widgets/base",
            "overflow": null,
            "_model_module_version": "1.2.0",
            "_view_count": null,
            "flex_flow": null,
            "width": null,
            "min_width": null,
            "border": null,
            "align_items": null,
            "bottom": null,
            "_model_module": "@jupyter-widgets/base",
            "top": null,
            "grid_column": null,
            "overflow_y": null,
            "overflow_x": null,
            "grid_auto_flow": null,
            "grid_area": null,
            "grid_template_columns": null,
            "flex": null,
            "_model_name": "LayoutModel",
            "justify_items": null,
            "grid_row": null,
            "max_height": null,
            "align_content": null,
            "visibility": null,
            "align_self": null,
            "height": null,
            "min_height": null,
            "padding": null,
            "grid_auto_rows": null,
            "grid_gap": null,
            "max_width": null,
            "order": null,
            "_view_module_version": "1.2.0",
            "grid_template_areas": null,
            "object_position": null,
            "object_fit": null,
            "grid_auto_columns": null,
            "margin": null,
            "display": null,
            "left": null
          }
        },
        "c90501c5866e455d9abceac475c31554": {
          "model_module": "@jupyter-widgets/controls",
          "model_name": "HBoxModel",
          "model_module_version": "1.5.0",
          "state": {
            "_view_name": "HBoxView",
            "_dom_classes": [],
            "_model_name": "HBoxModel",
            "_view_module": "@jupyter-widgets/controls",
            "_model_module_version": "1.5.0",
            "_view_count": null,
            "_view_module_version": "1.5.0",
            "box_style": "",
            "layout": "IPY_MODEL_92316030f9ee42d4b00d0dfd6a502ad0",
            "_model_module": "@jupyter-widgets/controls",
            "children": [
              "IPY_MODEL_52f8b2f837714553ae872b3397d28931",
              "IPY_MODEL_93500f8c73404dc594dcc2cd04f31a55",
              "IPY_MODEL_d9cc1fdaf8bb46a89474c6d0edfd5b78"
            ]
          }
        },
        "92316030f9ee42d4b00d0dfd6a502ad0": {
          "model_module": "@jupyter-widgets/base",
          "model_name": "LayoutModel",
          "model_module_version": "1.2.0",
          "state": {
            "_view_name": "LayoutView",
            "grid_template_rows": null,
            "right": null,
            "justify_content": null,
            "_view_module": "@jupyter-widgets/base",
            "overflow": null,
            "_model_module_version": "1.2.0",
            "_view_count": null,
            "flex_flow": null,
            "width": null,
            "min_width": null,
            "border": null,
            "align_items": null,
            "bottom": null,
            "_model_module": "@jupyter-widgets/base",
            "top": null,
            "grid_column": null,
            "overflow_y": null,
            "overflow_x": null,
            "grid_auto_flow": null,
            "grid_area": null,
            "grid_template_columns": null,
            "flex": null,
            "_model_name": "LayoutModel",
            "justify_items": null,
            "grid_row": null,
            "max_height": null,
            "align_content": null,
            "visibility": null,
            "align_self": null,
            "height": null,
            "min_height": null,
            "padding": null,
            "grid_auto_rows": null,
            "grid_gap": null,
            "max_width": null,
            "order": null,
            "_view_module_version": "1.2.0",
            "grid_template_areas": null,
            "object_position": null,
            "object_fit": null,
            "grid_auto_columns": null,
            "margin": null,
            "display": null,
            "left": null
          }
        },
        "52f8b2f837714553ae872b3397d28931": {
          "model_module": "@jupyter-widgets/controls",
          "model_name": "HTMLModel",
          "model_module_version": "1.5.0",
          "state": {
            "_view_name": "HTMLView",
            "style": "IPY_MODEL_5af00a6f00ae4a5a8f2294f8a41e1752",
            "_dom_classes": [],
            "description": "",
            "_model_name": "HTMLModel",
            "placeholder": "​",
            "_view_module": "@jupyter-widgets/controls",
            "_model_module_version": "1.5.0",
            "value": "Downloading https://huggingface.co/stanfordnlp/stanza-en/resolve/v1.3.0/models/default.zip: 100%",
            "_view_count": null,
            "_view_module_version": "1.5.0",
            "description_tooltip": null,
            "_model_module": "@jupyter-widgets/controls",
            "layout": "IPY_MODEL_aeac20006ce2478c8236ca2988e771cc"
          }
        },
        "93500f8c73404dc594dcc2cd04f31a55": {
          "model_module": "@jupyter-widgets/controls",
          "model_name": "FloatProgressModel",
          "model_module_version": "1.5.0",
          "state": {
            "_view_name": "ProgressView",
            "style": "IPY_MODEL_3ccff631e27e49eeab88eddfab5003d9",
            "_dom_classes": [],
            "description": "",
            "_model_name": "FloatProgressModel",
            "bar_style": "success",
            "max": 479531529,
            "_view_module": "@jupyter-widgets/controls",
            "_model_module_version": "1.5.0",
            "value": 479531529,
            "_view_count": null,
            "_view_module_version": "1.5.0",
            "orientation": "horizontal",
            "min": 0,
            "description_tooltip": null,
            "_model_module": "@jupyter-widgets/controls",
            "layout": "IPY_MODEL_a486f4d943c447a9add011483dfc895e"
          }
        },
        "d9cc1fdaf8bb46a89474c6d0edfd5b78": {
          "model_module": "@jupyter-widgets/controls",
          "model_name": "HTMLModel",
          "model_module_version": "1.5.0",
          "state": {
            "_view_name": "HTMLView",
            "style": "IPY_MODEL_651278c300ef4c6b90c223395602a01c",
            "_dom_classes": [],
            "description": "",
            "_model_name": "HTMLModel",
            "placeholder": "​",
            "_view_module": "@jupyter-widgets/controls",
            "_model_module_version": "1.5.0",
            "value": " 480M/480M [00:07&lt;00:00, 57.2MB/s]",
            "_view_count": null,
            "_view_module_version": "1.5.0",
            "description_tooltip": null,
            "_model_module": "@jupyter-widgets/controls",
            "layout": "IPY_MODEL_bbf0cbba16184bc3836b4ad0c7f7dcb4"
          }
        },
        "5af00a6f00ae4a5a8f2294f8a41e1752": {
          "model_module": "@jupyter-widgets/controls",
          "model_name": "DescriptionStyleModel",
          "model_module_version": "1.5.0",
          "state": {
            "_view_name": "StyleView",
            "_model_name": "DescriptionStyleModel",
            "description_width": "",
            "_view_module": "@jupyter-widgets/base",
            "_model_module_version": "1.5.0",
            "_view_count": null,
            "_view_module_version": "1.2.0",
            "_model_module": "@jupyter-widgets/controls"
          }
        },
        "aeac20006ce2478c8236ca2988e771cc": {
          "model_module": "@jupyter-widgets/base",
          "model_name": "LayoutModel",
          "model_module_version": "1.2.0",
          "state": {
            "_view_name": "LayoutView",
            "grid_template_rows": null,
            "right": null,
            "justify_content": null,
            "_view_module": "@jupyter-widgets/base",
            "overflow": null,
            "_model_module_version": "1.2.0",
            "_view_count": null,
            "flex_flow": null,
            "width": null,
            "min_width": null,
            "border": null,
            "align_items": null,
            "bottom": null,
            "_model_module": "@jupyter-widgets/base",
            "top": null,
            "grid_column": null,
            "overflow_y": null,
            "overflow_x": null,
            "grid_auto_flow": null,
            "grid_area": null,
            "grid_template_columns": null,
            "flex": null,
            "_model_name": "LayoutModel",
            "justify_items": null,
            "grid_row": null,
            "max_height": null,
            "align_content": null,
            "visibility": null,
            "align_self": null,
            "height": null,
            "min_height": null,
            "padding": null,
            "grid_auto_rows": null,
            "grid_gap": null,
            "max_width": null,
            "order": null,
            "_view_module_version": "1.2.0",
            "grid_template_areas": null,
            "object_position": null,
            "object_fit": null,
            "grid_auto_columns": null,
            "margin": null,
            "display": null,
            "left": null
          }
        },
        "3ccff631e27e49eeab88eddfab5003d9": {
          "model_module": "@jupyter-widgets/controls",
          "model_name": "ProgressStyleModel",
          "model_module_version": "1.5.0",
          "state": {
            "_view_name": "StyleView",
            "_model_name": "ProgressStyleModel",
            "description_width": "",
            "_view_module": "@jupyter-widgets/base",
            "_model_module_version": "1.5.0",
            "_view_count": null,
            "_view_module_version": "1.2.0",
            "bar_color": null,
            "_model_module": "@jupyter-widgets/controls"
          }
        },
        "a486f4d943c447a9add011483dfc895e": {
          "model_module": "@jupyter-widgets/base",
          "model_name": "LayoutModel",
          "model_module_version": "1.2.0",
          "state": {
            "_view_name": "LayoutView",
            "grid_template_rows": null,
            "right": null,
            "justify_content": null,
            "_view_module": "@jupyter-widgets/base",
            "overflow": null,
            "_model_module_version": "1.2.0",
            "_view_count": null,
            "flex_flow": null,
            "width": null,
            "min_width": null,
            "border": null,
            "align_items": null,
            "bottom": null,
            "_model_module": "@jupyter-widgets/base",
            "top": null,
            "grid_column": null,
            "overflow_y": null,
            "overflow_x": null,
            "grid_auto_flow": null,
            "grid_area": null,
            "grid_template_columns": null,
            "flex": null,
            "_model_name": "LayoutModel",
            "justify_items": null,
            "grid_row": null,
            "max_height": null,
            "align_content": null,
            "visibility": null,
            "align_self": null,
            "height": null,
            "min_height": null,
            "padding": null,
            "grid_auto_rows": null,
            "grid_gap": null,
            "max_width": null,
            "order": null,
            "_view_module_version": "1.2.0",
            "grid_template_areas": null,
            "object_position": null,
            "object_fit": null,
            "grid_auto_columns": null,
            "margin": null,
            "display": null,
            "left": null
          }
        },
        "651278c300ef4c6b90c223395602a01c": {
          "model_module": "@jupyter-widgets/controls",
          "model_name": "DescriptionStyleModel",
          "model_module_version": "1.5.0",
          "state": {
            "_view_name": "StyleView",
            "_model_name": "DescriptionStyleModel",
            "description_width": "",
            "_view_module": "@jupyter-widgets/base",
            "_model_module_version": "1.5.0",
            "_view_count": null,
            "_view_module_version": "1.2.0",
            "_model_module": "@jupyter-widgets/controls"
          }
        },
        "bbf0cbba16184bc3836b4ad0c7f7dcb4": {
          "model_module": "@jupyter-widgets/base",
          "model_name": "LayoutModel",
          "model_module_version": "1.2.0",
          "state": {
            "_view_name": "LayoutView",
            "grid_template_rows": null,
            "right": null,
            "justify_content": null,
            "_view_module": "@jupyter-widgets/base",
            "overflow": null,
            "_model_module_version": "1.2.0",
            "_view_count": null,
            "flex_flow": null,
            "width": null,
            "min_width": null,
            "border": null,
            "align_items": null,
            "bottom": null,
            "_model_module": "@jupyter-widgets/base",
            "top": null,
            "grid_column": null,
            "overflow_y": null,
            "overflow_x": null,
            "grid_auto_flow": null,
            "grid_area": null,
            "grid_template_columns": null,
            "flex": null,
            "_model_name": "LayoutModel",
            "justify_items": null,
            "grid_row": null,
            "max_height": null,
            "align_content": null,
            "visibility": null,
            "align_self": null,
            "height": null,
            "min_height": null,
            "padding": null,
            "grid_auto_rows": null,
            "grid_gap": null,
            "max_width": null,
            "order": null,
            "_view_module_version": "1.2.0",
            "grid_template_areas": null,
            "object_position": null,
            "object_fit": null,
            "grid_auto_columns": null,
            "margin": null,
            "display": null,
            "left": null
          }
        }
      }
    },
    "accelerator": "GPU"
  },
  "cells": [
    {
      "cell_type": "markdown",
      "metadata": {
        "id": "oYaroSm7tJH0"
      },
      "source": [
        "Import all the packages"
      ]
    },
    {
      "cell_type": "code",
      "metadata": {
        "scrolled": false,
        "colab": {
          "base_uri": "https://localhost:8080/"
        },
        "id": "hcAXyA7rtJH1",
        "outputId": "e1b2b2c2-76c8-4dc9-c328-ee4beb4bb46f"
      },
      "source": [
        "!pip install stanza\n",
        "!pip install textblob"
      ],
      "execution_count": 1,
      "outputs": [
        {
          "output_type": "stream",
          "name": "stdout",
          "text": [
            "Collecting stanza\n",
            "  Downloading stanza-1.3.0-py3-none-any.whl (432 kB)\n",
            "\u001b[?25l\r\u001b[K     |▊                               | 10 kB 23.4 MB/s eta 0:00:01\r\u001b[K     |█▌                              | 20 kB 23.5 MB/s eta 0:00:01\r\u001b[K     |██▎                             | 30 kB 11.8 MB/s eta 0:00:01\r\u001b[K     |███                             | 40 kB 9.3 MB/s eta 0:00:01\r\u001b[K     |███▉                            | 51 kB 5.4 MB/s eta 0:00:01\r\u001b[K     |████▌                           | 61 kB 5.9 MB/s eta 0:00:01\r\u001b[K     |█████▎                          | 71 kB 5.6 MB/s eta 0:00:01\r\u001b[K     |██████                          | 81 kB 6.3 MB/s eta 0:00:01\r\u001b[K     |██████▉                         | 92 kB 4.6 MB/s eta 0:00:01\r\u001b[K     |███████▋                        | 102 kB 5.1 MB/s eta 0:00:01\r\u001b[K     |████████▍                       | 112 kB 5.1 MB/s eta 0:00:01\r\u001b[K     |█████████                       | 122 kB 5.1 MB/s eta 0:00:01\r\u001b[K     |█████████▉                      | 133 kB 5.1 MB/s eta 0:00:01\r\u001b[K     |██████████▋                     | 143 kB 5.1 MB/s eta 0:00:01\r\u001b[K     |███████████▍                    | 153 kB 5.1 MB/s eta 0:00:01\r\u001b[K     |████████████▏                   | 163 kB 5.1 MB/s eta 0:00:01\r\u001b[K     |█████████████                   | 174 kB 5.1 MB/s eta 0:00:01\r\u001b[K     |█████████████▋                  | 184 kB 5.1 MB/s eta 0:00:01\r\u001b[K     |██████████████▍                 | 194 kB 5.1 MB/s eta 0:00:01\r\u001b[K     |███████████████▏                | 204 kB 5.1 MB/s eta 0:00:01\r\u001b[K     |████████████████                | 215 kB 5.1 MB/s eta 0:00:01\r\u001b[K     |████████████████▊               | 225 kB 5.1 MB/s eta 0:00:01\r\u001b[K     |█████████████████▍              | 235 kB 5.1 MB/s eta 0:00:01\r\u001b[K     |██████████████████▏             | 245 kB 5.1 MB/s eta 0:00:01\r\u001b[K     |███████████████████             | 256 kB 5.1 MB/s eta 0:00:01\r\u001b[K     |███████████████████▊            | 266 kB 5.1 MB/s eta 0:00:01\r\u001b[K     |████████████████████▌           | 276 kB 5.1 MB/s eta 0:00:01\r\u001b[K     |█████████████████████▎          | 286 kB 5.1 MB/s eta 0:00:01\r\u001b[K     |██████████████████████          | 296 kB 5.1 MB/s eta 0:00:01\r\u001b[K     |██████████████████████▊         | 307 kB 5.1 MB/s eta 0:00:01\r\u001b[K     |███████████████████████▌        | 317 kB 5.1 MB/s eta 0:00:01\r\u001b[K     |████████████████████████▎       | 327 kB 5.1 MB/s eta 0:00:01\r\u001b[K     |█████████████████████████       | 337 kB 5.1 MB/s eta 0:00:01\r\u001b[K     |█████████████████████████▉      | 348 kB 5.1 MB/s eta 0:00:01\r\u001b[K     |██████████████████████████▌     | 358 kB 5.1 MB/s eta 0:00:01\r\u001b[K     |███████████████████████████▎    | 368 kB 5.1 MB/s eta 0:00:01\r\u001b[K     |████████████████████████████    | 378 kB 5.1 MB/s eta 0:00:01\r\u001b[K     |████████████████████████████▉   | 389 kB 5.1 MB/s eta 0:00:01\r\u001b[K     |█████████████████████████████▋  | 399 kB 5.1 MB/s eta 0:00:01\r\u001b[K     |██████████████████████████████▍ | 409 kB 5.1 MB/s eta 0:00:01\r\u001b[K     |███████████████████████████████ | 419 kB 5.1 MB/s eta 0:00:01\r\u001b[K     |███████████████████████████████▉| 430 kB 5.1 MB/s eta 0:00:01\r\u001b[K     |████████████████████████████████| 432 kB 5.1 MB/s \n",
            "\u001b[?25hRequirement already satisfied: requests in /usr/local/lib/python3.7/dist-packages (from stanza) (2.23.0)\n",
            "Requirement already satisfied: protobuf in /usr/local/lib/python3.7/dist-packages (from stanza) (3.17.3)\n",
            "Collecting emoji\n",
            "  Downloading emoji-1.6.1.tar.gz (170 kB)\n",
            "\u001b[K     |████████████████████████████████| 170 kB 48.2 MB/s \n",
            "\u001b[?25hRequirement already satisfied: numpy in /usr/local/lib/python3.7/dist-packages (from stanza) (1.19.5)\n",
            "Requirement already satisfied: six in /usr/local/lib/python3.7/dist-packages (from stanza) (1.15.0)\n",
            "Requirement already satisfied: torch>=1.3.0 in /usr/local/lib/python3.7/dist-packages (from stanza) (1.10.0+cu111)\n",
            "Requirement already satisfied: tqdm in /usr/local/lib/python3.7/dist-packages (from stanza) (4.62.3)\n",
            "Requirement already satisfied: typing-extensions in /usr/local/lib/python3.7/dist-packages (from torch>=1.3.0->stanza) (3.10.0.2)\n",
            "Requirement already satisfied: urllib3!=1.25.0,!=1.25.1,<1.26,>=1.21.1 in /usr/local/lib/python3.7/dist-packages (from requests->stanza) (1.24.3)\n",
            "Requirement already satisfied: chardet<4,>=3.0.2 in /usr/local/lib/python3.7/dist-packages (from requests->stanza) (3.0.4)\n",
            "Requirement already satisfied: idna<3,>=2.5 in /usr/local/lib/python3.7/dist-packages (from requests->stanza) (2.10)\n",
            "Requirement already satisfied: certifi>=2017.4.17 in /usr/local/lib/python3.7/dist-packages (from requests->stanza) (2021.10.8)\n",
            "Building wheels for collected packages: emoji\n",
            "  Building wheel for emoji (setup.py) ... \u001b[?25l\u001b[?25hdone\n",
            "  Created wheel for emoji: filename=emoji-1.6.1-py3-none-any.whl size=169314 sha256=39a5ba5ca0d22640a0514d0e17eba223f267d94fafd8e61f658990f9d68d93d1\n",
            "  Stored in directory: /root/.cache/pip/wheels/ea/5f/d3/03d313ddb3c2a1a427bb4690f1621eea60fe6f2a30cc95940f\n",
            "Successfully built emoji\n",
            "Installing collected packages: emoji, stanza\n",
            "Successfully installed emoji-1.6.1 stanza-1.3.0\n",
            "Requirement already satisfied: textblob in /usr/local/lib/python3.7/dist-packages (0.15.3)\n",
            "Requirement already satisfied: nltk>=3.1 in /usr/local/lib/python3.7/dist-packages (from textblob) (3.2.5)\n",
            "Requirement already satisfied: six in /usr/local/lib/python3.7/dist-packages (from nltk>=3.1->textblob) (1.15.0)\n"
          ]
        }
      ]
    },
    {
      "cell_type": "code",
      "metadata": {
        "colab": {
          "base_uri": "https://localhost:8080/"
        },
        "id": "gr2mwJRMIy4c",
        "outputId": "f36f9cac-ed72-490c-bf9c-a13383edbfbb"
      },
      "source": [
        "!pip install langdetect"
      ],
      "execution_count": 2,
      "outputs": [
        {
          "output_type": "stream",
          "name": "stdout",
          "text": [
            "Collecting langdetect\n",
            "  Downloading langdetect-1.0.9.tar.gz (981 kB)\n",
            "\u001b[?25l\r\u001b[K     |▍                               | 10 kB 30.3 MB/s eta 0:00:01\r\u001b[K     |▊                               | 20 kB 24.7 MB/s eta 0:00:01\r\u001b[K     |█                               | 30 kB 11.8 MB/s eta 0:00:01\r\u001b[K     |█▍                              | 40 kB 9.3 MB/s eta 0:00:01\r\u001b[K     |█▊                              | 51 kB 5.3 MB/s eta 0:00:01\r\u001b[K     |██                              | 61 kB 5.9 MB/s eta 0:00:01\r\u001b[K     |██▍                             | 71 kB 5.7 MB/s eta 0:00:01\r\u001b[K     |██▊                             | 81 kB 6.3 MB/s eta 0:00:01\r\u001b[K     |███                             | 92 kB 4.9 MB/s eta 0:00:01\r\u001b[K     |███▍                            | 102 kB 5.2 MB/s eta 0:00:01\r\u001b[K     |███▊                            | 112 kB 5.2 MB/s eta 0:00:01\r\u001b[K     |████                            | 122 kB 5.2 MB/s eta 0:00:01\r\u001b[K     |████▍                           | 133 kB 5.2 MB/s eta 0:00:01\r\u001b[K     |████▊                           | 143 kB 5.2 MB/s eta 0:00:01\r\u001b[K     |█████                           | 153 kB 5.2 MB/s eta 0:00:01\r\u001b[K     |█████▍                          | 163 kB 5.2 MB/s eta 0:00:01\r\u001b[K     |█████▊                          | 174 kB 5.2 MB/s eta 0:00:01\r\u001b[K     |██████                          | 184 kB 5.2 MB/s eta 0:00:01\r\u001b[K     |██████▍                         | 194 kB 5.2 MB/s eta 0:00:01\r\u001b[K     |██████▊                         | 204 kB 5.2 MB/s eta 0:00:01\r\u001b[K     |███████                         | 215 kB 5.2 MB/s eta 0:00:01\r\u001b[K     |███████▍                        | 225 kB 5.2 MB/s eta 0:00:01\r\u001b[K     |███████▊                        | 235 kB 5.2 MB/s eta 0:00:01\r\u001b[K     |████████                        | 245 kB 5.2 MB/s eta 0:00:01\r\u001b[K     |████████▍                       | 256 kB 5.2 MB/s eta 0:00:01\r\u001b[K     |████████▊                       | 266 kB 5.2 MB/s eta 0:00:01\r\u001b[K     |█████████                       | 276 kB 5.2 MB/s eta 0:00:01\r\u001b[K     |█████████▍                      | 286 kB 5.2 MB/s eta 0:00:01\r\u001b[K     |█████████▊                      | 296 kB 5.2 MB/s eta 0:00:01\r\u001b[K     |██████████                      | 307 kB 5.2 MB/s eta 0:00:01\r\u001b[K     |██████████▍                     | 317 kB 5.2 MB/s eta 0:00:01\r\u001b[K     |██████████▊                     | 327 kB 5.2 MB/s eta 0:00:01\r\u001b[K     |███████████                     | 337 kB 5.2 MB/s eta 0:00:01\r\u001b[K     |███████████▍                    | 348 kB 5.2 MB/s eta 0:00:01\r\u001b[K     |███████████▊                    | 358 kB 5.2 MB/s eta 0:00:01\r\u001b[K     |████████████                    | 368 kB 5.2 MB/s eta 0:00:01\r\u001b[K     |████████████▍                   | 378 kB 5.2 MB/s eta 0:00:01\r\u001b[K     |████████████▊                   | 389 kB 5.2 MB/s eta 0:00:01\r\u001b[K     |█████████████                   | 399 kB 5.2 MB/s eta 0:00:01\r\u001b[K     |█████████████▍                  | 409 kB 5.2 MB/s eta 0:00:01\r\u001b[K     |█████████████▊                  | 419 kB 5.2 MB/s eta 0:00:01\r\u001b[K     |██████████████                  | 430 kB 5.2 MB/s eta 0:00:01\r\u001b[K     |██████████████▍                 | 440 kB 5.2 MB/s eta 0:00:01\r\u001b[K     |██████████████▊                 | 450 kB 5.2 MB/s eta 0:00:01\r\u001b[K     |███████████████                 | 460 kB 5.2 MB/s eta 0:00:01\r\u001b[K     |███████████████▍                | 471 kB 5.2 MB/s eta 0:00:01\r\u001b[K     |███████████████▊                | 481 kB 5.2 MB/s eta 0:00:01\r\u001b[K     |████████████████                | 491 kB 5.2 MB/s eta 0:00:01\r\u001b[K     |████████████████▍               | 501 kB 5.2 MB/s eta 0:00:01\r\u001b[K     |████████████████▊               | 512 kB 5.2 MB/s eta 0:00:01\r\u001b[K     |█████████████████               | 522 kB 5.2 MB/s eta 0:00:01\r\u001b[K     |█████████████████▍              | 532 kB 5.2 MB/s eta 0:00:01\r\u001b[K     |█████████████████▊              | 542 kB 5.2 MB/s eta 0:00:01\r\u001b[K     |██████████████████              | 552 kB 5.2 MB/s eta 0:00:01\r\u001b[K     |██████████████████▍             | 563 kB 5.2 MB/s eta 0:00:01\r\u001b[K     |██████████████████▊             | 573 kB 5.2 MB/s eta 0:00:01\r\u001b[K     |███████████████████             | 583 kB 5.2 MB/s eta 0:00:01\r\u001b[K     |███████████████████▍            | 593 kB 5.2 MB/s eta 0:00:01\r\u001b[K     |███████████████████▊            | 604 kB 5.2 MB/s eta 0:00:01\r\u001b[K     |████████████████████            | 614 kB 5.2 MB/s eta 0:00:01\r\u001b[K     |████████████████████▍           | 624 kB 5.2 MB/s eta 0:00:01\r\u001b[K     |████████████████████▊           | 634 kB 5.2 MB/s eta 0:00:01\r\u001b[K     |█████████████████████           | 645 kB 5.2 MB/s eta 0:00:01\r\u001b[K     |█████████████████████▍          | 655 kB 5.2 MB/s eta 0:00:01\r\u001b[K     |█████████████████████▊          | 665 kB 5.2 MB/s eta 0:00:01\r\u001b[K     |██████████████████████          | 675 kB 5.2 MB/s eta 0:00:01\r\u001b[K     |██████████████████████▍         | 686 kB 5.2 MB/s eta 0:00:01\r\u001b[K     |██████████████████████▊         | 696 kB 5.2 MB/s eta 0:00:01\r\u001b[K     |███████████████████████         | 706 kB 5.2 MB/s eta 0:00:01\r\u001b[K     |███████████████████████▍        | 716 kB 5.2 MB/s eta 0:00:01\r\u001b[K     |███████████████████████▊        | 727 kB 5.2 MB/s eta 0:00:01\r\u001b[K     |████████████████████████        | 737 kB 5.2 MB/s eta 0:00:01\r\u001b[K     |████████████████████████▍       | 747 kB 5.2 MB/s eta 0:00:01\r\u001b[K     |████████████████████████▊       | 757 kB 5.2 MB/s eta 0:00:01\r\u001b[K     |█████████████████████████       | 768 kB 5.2 MB/s eta 0:00:01\r\u001b[K     |█████████████████████████▍      | 778 kB 5.2 MB/s eta 0:00:01\r\u001b[K     |█████████████████████████▊      | 788 kB 5.2 MB/s eta 0:00:01\r\u001b[K     |██████████████████████████      | 798 kB 5.2 MB/s eta 0:00:01\r\u001b[K     |██████████████████████████▍     | 808 kB 5.2 MB/s eta 0:00:01\r\u001b[K     |██████████████████████████▊     | 819 kB 5.2 MB/s eta 0:00:01\r\u001b[K     |███████████████████████████     | 829 kB 5.2 MB/s eta 0:00:01\r\u001b[K     |███████████████████████████▍    | 839 kB 5.2 MB/s eta 0:00:01\r\u001b[K     |███████████████████████████▊    | 849 kB 5.2 MB/s eta 0:00:01\r\u001b[K     |████████████████████████████    | 860 kB 5.2 MB/s eta 0:00:01\r\u001b[K     |████████████████████████████▍   | 870 kB 5.2 MB/s eta 0:00:01\r\u001b[K     |████████████████████████████▊   | 880 kB 5.2 MB/s eta 0:00:01\r\u001b[K     |█████████████████████████████   | 890 kB 5.2 MB/s eta 0:00:01\r\u001b[K     |█████████████████████████████▍  | 901 kB 5.2 MB/s eta 0:00:01\r\u001b[K     |█████████████████████████████▊  | 911 kB 5.2 MB/s eta 0:00:01\r\u001b[K     |██████████████████████████████  | 921 kB 5.2 MB/s eta 0:00:01\r\u001b[K     |██████████████████████████████▍ | 931 kB 5.2 MB/s eta 0:00:01\r\u001b[K     |██████████████████████████████▊ | 942 kB 5.2 MB/s eta 0:00:01\r\u001b[K     |███████████████████████████████ | 952 kB 5.2 MB/s eta 0:00:01\r\u001b[K     |███████████████████████████████▍| 962 kB 5.2 MB/s eta 0:00:01\r\u001b[K     |███████████████████████████████▊| 972 kB 5.2 MB/s eta 0:00:01\r\u001b[K     |████████████████████████████████| 981 kB 5.2 MB/s \n",
            "\u001b[?25hRequirement already satisfied: six in /usr/local/lib/python3.7/dist-packages (from langdetect) (1.15.0)\n",
            "Building wheels for collected packages: langdetect\n",
            "  Building wheel for langdetect (setup.py) ... \u001b[?25l\u001b[?25hdone\n",
            "  Created wheel for langdetect: filename=langdetect-1.0.9-py3-none-any.whl size=993242 sha256=5d0534967018720dad428366adffaa01ccac732ceb7c815e4bedc0b63ceebd7e\n",
            "  Stored in directory: /root/.cache/pip/wheels/c5/96/8a/f90c59ed25d75e50a8c10a1b1c2d4c402e4dacfa87f3aff36a\n",
            "Successfully built langdetect\n",
            "Installing collected packages: langdetect\n",
            "Successfully installed langdetect-1.0.9\n"
          ]
        }
      ]
    },
    {
      "cell_type": "code",
      "metadata": {
        "id": "m1YyJfHftJH2"
      },
      "source": [
        "import pandas as pd\n",
        "import numpy as np\n",
        "import re\n",
        "import stanza\n",
        "from nltk.corpus import stopwords\n",
        "from nltk.corpus import wordnet\n",
        "from nltk.tokenize import word_tokenize, sent_tokenize\n",
        "from nltk.stem.wordnet import WordNetLemmatizer \n",
        "import nltk\n",
        "import langdetect\n",
        "from langdetect import detect\n",
        "from textblob import TextBlob as tb"
      ],
      "execution_count": 3,
      "outputs": []
    },
    {
      "cell_type": "code",
      "metadata": {
        "colab": {
          "base_uri": "https://localhost:8080/",
          "height": 255,
          "referenced_widgets": [
            "95567f54199d479cbe40e12e690ea8f2",
            "0103961a306c477aa6d1deb2edb00cb6",
            "67474fe2ab7144c693c0ac672bca7b3b",
            "ed48d690e7174e19a0195f80919607de",
            "02bd20a4e19343e9872def6dd67e11b2",
            "cdb9f861c3d04e0580ea27d0b5fc83c2",
            "46e63ca50a4a4456a0ad04db584747c3",
            "38e541f9c3c64df0ad72092e454738a0",
            "bffd510916834a20b84c48d263392fab",
            "586011dafab546d091cfcbbcd2e0e937",
            "7bddeeb374ae43fcbc9632ebee043e51",
            "c90501c5866e455d9abceac475c31554",
            "92316030f9ee42d4b00d0dfd6a502ad0",
            "52f8b2f837714553ae872b3397d28931",
            "93500f8c73404dc594dcc2cd04f31a55",
            "d9cc1fdaf8bb46a89474c6d0edfd5b78",
            "5af00a6f00ae4a5a8f2294f8a41e1752",
            "aeac20006ce2478c8236ca2988e771cc",
            "3ccff631e27e49eeab88eddfab5003d9",
            "a486f4d943c447a9add011483dfc895e",
            "651278c300ef4c6b90c223395602a01c",
            "bbf0cbba16184bc3836b4ad0c7f7dcb4"
          ]
        },
        "id": "zNw93-6GJNlR",
        "outputId": "56e8f232-9125-4e5e-a346-5fdca080cce3"
      },
      "source": [
        "stanza.download('en')\n",
        "nltk.download('stopwords')\n",
        "nltk.download('punkt')\n",
        "nltk.download('averaged_perceptron_tagger')"
      ],
      "execution_count": 4,
      "outputs": [
        {
          "output_type": "display_data",
          "data": {
            "application/vnd.jupyter.widget-view+json": {
              "model_id": "95567f54199d479cbe40e12e690ea8f2",
              "version_minor": 0,
              "version_major": 2
            },
            "text/plain": [
              "Downloading https://raw.githubusercontent.com/stanfordnlp/stanza-resources/main/resources_1.3.0.json:   0%|   …"
            ]
          },
          "metadata": {}
        },
        {
          "output_type": "stream",
          "name": "stderr",
          "text": [
            "2021-12-06 16:12:07 INFO: Downloading default packages for language: en (English)...\n"
          ]
        },
        {
          "output_type": "display_data",
          "data": {
            "application/vnd.jupyter.widget-view+json": {
              "model_id": "c90501c5866e455d9abceac475c31554",
              "version_minor": 0,
              "version_major": 2
            },
            "text/plain": [
              "Downloading https://huggingface.co/stanfordnlp/stanza-en/resolve/v1.3.0/models/default.zip:   0%|          | 0…"
            ]
          },
          "metadata": {}
        },
        {
          "output_type": "stream",
          "name": "stderr",
          "text": [
            "2021-12-06 16:12:22 INFO: Finished downloading models and saved to /root/stanza_resources.\n"
          ]
        },
        {
          "output_type": "stream",
          "name": "stdout",
          "text": [
            "[nltk_data] Downloading package stopwords to /root/nltk_data...\n",
            "[nltk_data]   Unzipping corpora/stopwords.zip.\n",
            "[nltk_data] Downloading package punkt to /root/nltk_data...\n",
            "[nltk_data]   Unzipping tokenizers/punkt.zip.\n",
            "[nltk_data] Downloading package averaged_perceptron_tagger to\n",
            "[nltk_data]     /root/nltk_data...\n",
            "[nltk_data]   Unzipping taggers/averaged_perceptron_tagger.zip.\n"
          ]
        },
        {
          "output_type": "execute_result",
          "data": {
            "text/plain": [
              "True"
            ]
          },
          "metadata": {},
          "execution_count": 4
        }
      ]
    },
    {
      "cell_type": "markdown",
      "metadata": {
        "id": "9UdD8SEUtJH3"
      },
      "source": [
        "Import dataset"
      ]
    },
    {
      "cell_type": "code",
      "metadata": {
        "id": "6TZozJQ8tJH3"
      },
      "source": [
        "#df=pd.read_csv('garnierEnComBV.csv')"
      ],
      "execution_count": 5,
      "outputs": []
    },
    {
      "cell_type": "code",
      "metadata": {
        "id": "amO7sNxQtJH4"
      },
      "source": [
        "df = pd.read_csv('vichy_reviews_amazon.csv')\n",
        "df.rename(columns={'Review':'review_text'},inplace=True)"
      ],
      "execution_count": 20,
      "outputs": []
    },
    {
      "cell_type": "code",
      "metadata": {
        "scrolled": false,
        "colab": {
          "base_uri": "https://localhost:8080/",
          "height": 424
        },
        "id": "Nj0pSJI1tJH4",
        "outputId": "7be395a6-da29-4276-dd6b-7e10c62ce118"
      },
      "source": [
        "df"
      ],
      "execution_count": 21,
      "outputs": [
        {
          "output_type": "execute_result",
          "data": {
            "text/html": [
              "<div>\n",
              "<style scoped>\n",
              "    .dataframe tbody tr th:only-of-type {\n",
              "        vertical-align: middle;\n",
              "    }\n",
              "\n",
              "    .dataframe tbody tr th {\n",
              "        vertical-align: top;\n",
              "    }\n",
              "\n",
              "    .dataframe thead th {\n",
              "        text-align: right;\n",
              "    }\n",
              "</style>\n",
              "<table border=\"1\" class=\"dataframe\">\n",
              "  <thead>\n",
              "    <tr style=\"text-align: right;\">\n",
              "      <th></th>\n",
              "      <th>ASIN</th>\n",
              "      <th>ProductName</th>\n",
              "      <th>Stars</th>\n",
              "      <th>ReviewTitle</th>\n",
              "      <th>review_text</th>\n",
              "    </tr>\n",
              "  </thead>\n",
              "  <tbody>\n",
              "    <tr>\n",
              "      <th>0</th>\n",
              "      <td>B06XC5PQGL</td>\n",
              "      <td>Vichy Hydrating Hyaluronic Acid Serum, Mineral...</td>\n",
              "      <td>5.0</td>\n",
              "      <td>Best hyaluronic acid</td>\n",
              "      <td>I'm an avid skin care fanatic and have tried s...</td>\n",
              "    </tr>\n",
              "    <tr>\n",
              "      <th>1</th>\n",
              "      <td>B06XC5PQGL</td>\n",
              "      <td>Vichy Hydrating Hyaluronic Acid Serum, Mineral...</td>\n",
              "      <td>5.0</td>\n",
              "      <td>Definitely worth it</td>\n",
              "      <td>At first I was skeptical but I've seen this re...</td>\n",
              "    </tr>\n",
              "    <tr>\n",
              "      <th>2</th>\n",
              "      <td>B06XC5PQGL</td>\n",
              "      <td>Vichy Hydrating Hyaluronic Acid Serum, Mineral...</td>\n",
              "      <td>5.0</td>\n",
              "      <td>Light Weight</td>\n",
              "      <td>This moisturizer is light weight, non-sticky/n...</td>\n",
              "    </tr>\n",
              "    <tr>\n",
              "      <th>3</th>\n",
              "      <td>B06XC5PQGL</td>\n",
              "      <td>Vichy Hydrating Hyaluronic Acid Serum, Mineral...</td>\n",
              "      <td>2.0</td>\n",
              "      <td>Dried my skin</td>\n",
              "      <td>Unfortunately, it dried my skin and created dr...</td>\n",
              "    </tr>\n",
              "    <tr>\n",
              "      <th>4</th>\n",
              "      <td>B06XC5PQGL</td>\n",
              "      <td>Vichy Hydrating Hyaluronic Acid Serum, Mineral...</td>\n",
              "      <td>5.0</td>\n",
              "      <td>Worth it!</td>\n",
              "      <td>I have been wanting to try Vichy for a long ti...</td>\n",
              "    </tr>\n",
              "    <tr>\n",
              "      <th>...</th>\n",
              "      <td>...</td>\n",
              "      <td>...</td>\n",
              "      <td>...</td>\n",
              "      <td>...</td>\n",
              "      <td>...</td>\n",
              "    </tr>\n",
              "    <tr>\n",
              "      <th>14833</th>\n",
              "      <td>B06XC5PQGL</td>\n",
              "      <td>Vichy Hydrating Hyaluronic Acid Serum, Mineral...</td>\n",
              "      <td>NaN</td>\n",
              "      <td>Maria Cordoneda Sánchez</td>\n",
              "      <td>Mi madre quedo encantada con el producto. Te d...</td>\n",
              "    </tr>\n",
              "    <tr>\n",
              "      <th>14834</th>\n",
              "      <td>B06XC5PQGL</td>\n",
              "      <td>Vichy Hydrating Hyaluronic Acid Serum, Mineral...</td>\n",
              "      <td>NaN</td>\n",
              "      <td>Una piccola delusione</td>\n",
              "      <td>Sono fan dei prodotti di Vichy da anni, uso da...</td>\n",
              "    </tr>\n",
              "    <tr>\n",
              "      <th>14835</th>\n",
              "      <td>B06XC5PQGL</td>\n",
              "      <td>Vichy Hydrating Hyaluronic Acid Serum, Mineral...</td>\n",
              "      <td>NaN</td>\n",
              "      <td>Buon prodotto penso lo ricomprerò</td>\n",
              "      <td>Mi piace molto perché anche a fine giornata si...</td>\n",
              "    </tr>\n",
              "    <tr>\n",
              "      <th>14836</th>\n",
              "      <td>B06XC5PQGL</td>\n",
              "      <td>Vichy Hydrating Hyaluronic Acid Serum, Mineral...</td>\n",
              "      <td>NaN</td>\n",
              "      <td>Buona</td>\n",
              "      <td>Crema perfetta x l'estate ha la consistenza di...</td>\n",
              "    </tr>\n",
              "    <tr>\n",
              "      <th>14837</th>\n",
              "      <td>B06XC5PQGL</td>\n",
              "      <td>Vichy Hydrating Hyaluronic Acid Serum, Mineral...</td>\n",
              "      <td>NaN</td>\n",
              "      <td>Muy muy bueno e hidratante</td>\n",
              "      <td>Es excelente!</td>\n",
              "    </tr>\n",
              "  </tbody>\n",
              "</table>\n",
              "<p>14838 rows × 5 columns</p>\n",
              "</div>"
            ],
            "text/plain": [
              "             ASIN  ...                                        review_text\n",
              "0      B06XC5PQGL  ...  I'm an avid skin care fanatic and have tried s...\n",
              "1      B06XC5PQGL  ...  At first I was skeptical but I've seen this re...\n",
              "2      B06XC5PQGL  ...  This moisturizer is light weight, non-sticky/n...\n",
              "3      B06XC5PQGL  ...  Unfortunately, it dried my skin and created dr...\n",
              "4      B06XC5PQGL  ...  I have been wanting to try Vichy for a long ti...\n",
              "...           ...  ...                                                ...\n",
              "14833  B06XC5PQGL  ...  Mi madre quedo encantada con el producto. Te d...\n",
              "14834  B06XC5PQGL  ...  Sono fan dei prodotti di Vichy da anni, uso da...\n",
              "14835  B06XC5PQGL  ...  Mi piace molto perché anche a fine giornata si...\n",
              "14836  B06XC5PQGL  ...  Crema perfetta x l'estate ha la consistenza di...\n",
              "14837  B06XC5PQGL  ...                                      Es excelente!\n",
              "\n",
              "[14838 rows x 5 columns]"
            ]
          },
          "metadata": {},
          "execution_count": 21
        }
      ]
    },
    {
      "cell_type": "code",
      "metadata": {
        "scrolled": true,
        "colab": {
          "base_uri": "https://localhost:8080/"
        },
        "id": "c6Juc9KMtJH4",
        "outputId": "cb7e7b57-7192-426e-c736-9184c7e9f092"
      },
      "source": [
        "nlp = stanza.Pipeline()\n",
        "\n",
        "def preprocess(review):\n",
        "      sentence = review\n",
        "      sentence = re.sub('[^a-zA-Z]',' ',sentence)\n",
        "      sentence = re.sub(r\"\\s+[a-zA-Z]\\s+\", ' ',sentence)\n",
        "      sentence = re.sub(r'\\s+', ' ',sentence)\n",
        "\n",
        "      return sentence"
      ],
      "execution_count": 8,
      "outputs": [
        {
          "output_type": "stream",
          "name": "stderr",
          "text": [
            "2021-12-06 16:12:23 INFO: Loading these models for language: en (English):\n",
            "============================\n",
            "| Processor    | Package   |\n",
            "----------------------------\n",
            "| tokenize     | combined  |\n",
            "| pos          | combined  |\n",
            "| lemma        | combined  |\n",
            "| depparse     | combined  |\n",
            "| sentiment    | sstplus   |\n",
            "| constituency | wsj       |\n",
            "| ner          | ontonotes |\n",
            "============================\n",
            "\n",
            "2021-12-06 16:12:23 INFO: Use device: gpu\n",
            "2021-12-06 16:12:23 INFO: Loading: tokenize\n",
            "2021-12-06 16:12:32 INFO: Loading: pos\n",
            "2021-12-06 16:12:33 INFO: Loading: lemma\n",
            "2021-12-06 16:12:33 INFO: Loading: depparse\n",
            "2021-12-06 16:12:33 INFO: Loading: sentiment\n",
            "2021-12-06 16:12:34 INFO: Loading: constituency\n",
            "2021-12-06 16:12:34 INFO: Loading: ner\n",
            "2021-12-06 16:12:35 INFO: Done loading processors!\n"
          ]
        }
      ]
    },
    {
      "cell_type": "code",
      "metadata": {
        "colab": {
          "base_uri": "https://localhost:8080/"
        },
        "id": "9_9OQcBptJH5",
        "outputId": "13c64904-b7a3-4a2a-c2aa-2f98a909d577"
      },
      "source": [
        "len(df)"
      ],
      "execution_count": 9,
      "outputs": [
        {
          "output_type": "execute_result",
          "data": {
            "text/plain": [
              "31484"
            ]
          },
          "metadata": {},
          "execution_count": 9
        }
      ]
    },
    {
      "cell_type": "code",
      "metadata": {
        "colab": {
          "base_uri": "https://localhost:8080/"
        },
        "id": "OLjQZBy5Mt6j",
        "outputId": "e4c56799-ee86-4ffb-e1e8-a4215484b3ae"
      },
      "source": [
        "# Python3 program to count words\n",
        "# in a given string\n",
        "OUT = 0\n",
        "IN = 1\n",
        " \n",
        "# Returns number of words in string\n",
        "def countWords(string):\n",
        "    state = OUT\n",
        "    wc = 0\n",
        " \n",
        "    # Scan all characters one by one\n",
        "    for i in range(len(string)):\n",
        " \n",
        "        # If next character is a separator,\n",
        "        # set the state as OUT\n",
        "        if (string[i] == ' ' or string[i] == '\\n' or\n",
        "            string[i] == '\\t'):\n",
        "            state = OUT\n",
        " \n",
        "        # If next character is not a word\n",
        "        # separator and state is OUT, then\n",
        "        # set the state as IN and increment\n",
        "        # word count\n",
        "        elif state == OUT:\n",
        "            state = IN\n",
        "            wc += 1\n",
        " \n",
        "    # Return the number of words\n",
        "    return wc\n",
        " \n",
        "# Driver Code\n",
        "string = \"One two         three\\n four\\tfive \"\n",
        "print(\"No. of words : \" + str(countWords(string)))"
      ],
      "execution_count": 18,
      "outputs": [
        {
          "output_type": "stream",
          "name": "stdout",
          "text": [
            "No. of words : 5\n"
          ]
        }
      ]
    },
    {
      "cell_type": "code",
      "metadata": {
        "colab": {
          "base_uri": "https://localhost:8080/",
          "height": 507
        },
        "id": "pLEDczeYtJH5",
        "outputId": "5010483e-f869-4582-af08-5d929a13a6fc"
      },
      "source": [
        "aspect = []\n",
        "lang = []\n",
        "sentiment = []\n",
        "for i in range(len(df)):\n",
        "  txt = df['review_text'][i]\n",
        "  txt=txt.lower()\n",
        "  #print(i)\n",
        "  #print('Number of Words:',countWords(txt))\n",
        "  #Create a def to remove all the upper lower case, punctuations, and extra white space\n",
        "  \n",
        "\n",
        "  def preprocess(review):\n",
        "    sentence = review\n",
        "    sentence = re.sub('[^a-zA-Z]',' ',sentence)\n",
        "    sentence = re.sub(r\"\\s+[a-zA-Z]\\s+\", ' ',sentence)\n",
        "    sentence = re.sub(r'\\s+', ' ',sentence)\n",
        "\n",
        "    return sentence\n",
        "\n",
        "  temp=preprocess(txt)\n",
        "  sentList=nltk.sent_tokenize(temp)\n",
        "\n",
        "  if countWords(temp)== 0 or countWords(temp)== 1:\n",
        "    aspect.append(txt)\n",
        "    sentiment.append(tb(txt).sentiment)\n",
        "    continue\n",
        "\n",
        "  lang.append(detect(txt))\n",
        "  if detect(txt)!= 'en':\n",
        "    sentiment.append('')\n",
        "    continue\n",
        "  #Word tokenize and Part-of-speech Tag each word\n",
        "\n",
        "  for line in sentList:\n",
        "      txt_list = nltk.word_tokenize(line)\n",
        "      taggedList = nltk.pos_tag(txt_list)\n",
        "  #|print(taggedList)\n",
        "\n",
        "  #Join words with two nouns together(E.g. hair product = hairproduct)then pos tag everything again\n",
        "\n",
        "  newwordList = []\n",
        "  flag = 0\n",
        "  for i in range(0,len(taggedList)-1):\n",
        "      if(taggedList[i][1]==\"NN\" and taggedList[i+1][1]==\"NN\"):\n",
        "          newwordList.append(taggedList[i][0]+taggedList[i+1][0])\n",
        "          flag=1\n",
        "      else:\n",
        "          if(flag==1):\n",
        "              flag=0\n",
        "              continue\n",
        "          newwordList.append(taggedList[i][0])\n",
        "          if(i==len(taggedList)-2):\n",
        "              newwordList.append(taggedList[i+1][0])\n",
        "  finaltxt = ' '.join(word for word in newwordList)\n",
        "\n",
        "  sentList = nltk.sent_tokenize(finaltxt)\n",
        "  for line in sentList:\n",
        "      txt_list = nltk.word_tokenize(line)\n",
        "      taggedList = nltk.pos_tag(txt_list)\n",
        "  #print('taggedlist1',taggedList)\n",
        "\n",
        "  #remove any stop words\n",
        "  stop_words = set(stopwords.words('english'))\n",
        "  new_txt_list = nltk.word_tokenize(finaltxt)\n",
        "  wordsList = [w for w in new_txt_list if not w in stop_words]\n",
        "  taggedList = nltk.pos_tag(wordsList)\n",
        "  \n",
        "  #exception for GW,which is causing the model to not run \n",
        "  i=0\n",
        "  while i<len(taggedList):\n",
        "      if taggedList[i][1]=='GW':\n",
        "          #print('yes')\n",
        "          finaltxt.replace(taggedList[i][0],' ')\n",
        "          taggedList.pop(i)\n",
        "          continue\n",
        "      i+=1\n",
        "\n",
        "  finaltxt2=[]\n",
        "  for i in range(0,len(taggedList)):\n",
        "    finaltxt2.append(taggedList[i][0])\n",
        "  finaltxt = ' '.join(word for word in finaltxt2)\n",
        "\n",
        "  if finaltxt == []:\n",
        "    continue\n",
        "  #Use a constituency parser to determine the relationship between each word\n",
        "  doc = nlp(finaltxt)\n",
        "  dep_node = []\n",
        "\n",
        "  for dep_edge in doc.sentences[0].dependencies:\n",
        "    dep_node.append([dep_edge[2].text, dep_edge[0].id, dep_edge[1]])\n",
        "  for i in range(0, len(dep_node)):\n",
        "    if (int(dep_node[i][1]) != 0):\n",
        "      dep_node[i][1] = newwordList[(int(dep_node[i][1]) - 1)]\n",
        "\n",
        "  #print('dep_node',dep_node)\n",
        "  featureList = []\n",
        "  categories = []\n",
        "  totalfeatureList = []\n",
        "  #print('taggedlist',taggedList)\n",
        "  for i in taggedList:\n",
        "    if(i[1]=='JJ' or i[1]=='JJS' or i[1]=='JJR' or i[1]=='NN' or i[1]=='NNS' or i[1]=='NNP' or i[1]=='NNPS' or i[1]=='RB'):\n",
        "      featureList.append(list(i))\n",
        "      totalfeatureList.append(list(i)) # This list will store all the features for every sentence\n",
        "      categories.append(i[0])\n",
        "  #print('featurelist',featureList)\n",
        "  #print('categories:',categories)\n",
        "  #possible relations: \"obj',\"neg\", \"prep_of\",, \"compound\"\n",
        "  fcluster = []\n",
        "  for i in featureList:\n",
        "    filist = []\n",
        "    for j in dep_node:\n",
        "      if((j[0]==i[0] or j[1]==i[0]) and (j[2] in [\"nsubj\", \"acl:relcl\", \"obj\", \"dobj\", \"agent\", \"advmod\", \"amod\", \"prep_of\", \"acomp\", \"xcomp\"])):\n",
        "        if(j[0]==i[0]):\n",
        "          filist.append(j[1])\n",
        "        else:\n",
        "          filist.append(j[0])\n",
        "    fcluster.append([i[0], filist])\n",
        "  \n",
        "  #print('fcluster',fcluster)\n",
        "  finalcluster = []\n",
        "  dic = {}\n",
        "  for i in totalfeatureList:\n",
        "      dic[i[0]] = i[1]\n",
        "  for i in fcluster:\n",
        "      if(dic[i[0]]==\"NN\" or dic[i[0]]==\"NNS\" or dic[i[0]]==\"NNP\" or dic[i[0]]==\"NNPS\"):\n",
        "          finalcluster.append(i)\n",
        "\n",
        "  i=0\n",
        "  while i < len(finalcluster):\n",
        "    if bool(finalcluster[i][1])==False:\n",
        "      finalcluster.pop(i)\n",
        "      continue\n",
        "    i+=1\n",
        "  #print('Finalcluster',finalcluster)\n",
        "  aspect.append(finalcluster)\n",
        "  sentiment.append(tb(finaltxt).sentiment)\n",
        "  #print('sentiment:', sentiment)\n",
        "df['cluster']=aspect\n",
        "df['language']=lang\n",
        "df['sentiment']=sentiment\n",
        "    "
      ],
      "execution_count": 22,
      "outputs": [
        {
          "output_type": "stream",
          "name": "stderr",
          "text": [
            "2021-12-06 20:06:12 ERROR: Went infinite!:\n",
            "Final state:\n",
            "State(\n",
            "  buffer:[(NN ampoulepack), (VB see), (NN day), (NN pack), (JJ latter), (RB fairly), (VBN priced), (VBP continue), (VBG starting), (MD would), (VB spring), (JJR larger), (VB pack), (JJS least), (JJ full), (NN month), (VB determine), (JJ good), (JJ enough), (NNS results), (VB continue), (VBN said), (NN combination), (NNS ingredients), (VBP seem), (JJ beneficial), (NN love), (VBG using), (NN vitamin), (NN brightening), (JJ hyaluronic), (NN acid), (NN humectant), (NN waterretention), (NN addition), (NN plant), (VBN based), (NNS peptides), (NNS phytopeptides), (JJ riceprotein), (NN lupine), (NN proteinclaim), (NN help), (NN skin), (NN firmness), (RB already), (VBP use), (JJ first), (CD two), (VBD tried), (JJ latter), (NN routine), (NN plant), (VBN based), (NN sense), (RB typically), (VB use), (NN animal), (VBN sourced), (VBN hydrolyzed), (NN protein), (NNS peptides), (NNS partdon), (VB expect), (VB see), (JJ much), (NN change), (NN skin), (VBN given), (NN familiarity), (NNS ingredients), (VBP say), (JJ helpful), (NN age), (RB pretty), (JJ much), (NN skin), (NN type), (NNS notes), (JJ hyaluronicacid), (JJ true), (NN acidbtw), (VBZ acts), (NN humectant), (NN drawsmoisture), (JJ important), (NN lock), (NN moisturizer), (JJ occlusive), (NN oiletc), (RB especially), (JJ dry), (NN environment), (VB see), (JJ hyaluronic), (NN acid), (NN draw), (NN moisture), (NN skin), (NN moisture), (NN air), (NN draw), (NN skin), (VB make), (NN skin), (VBN parched), (VBG locking), (JJ hyaluronic), (NN acid), (NN brand), (JJ new), (VBG using), (NN vitamin), (VBN recommended), (NN start), (JJR lower), (NN percentage), (NN mid), (NN range), (JJS highest), (NNS serums), (VBP know), (VB manage), (JJS purest), (NN form), (RB typically), (NN powder), (VBG using), (RB simply), (VB use), (JJR less), (NN start), (RB instead), (VBG using), (NN morning), (NN night), (DT every), (NN day), (VB use), (DT every), (NN day), (RB maybe), (NN day), (RB maybe), (VB aim), (NNS doses), (NN bottle), (NN know), (MD may), (VB interfere), (JJ ultimate), (NN freshness), (NNS directions), (VB say), (VB use), (NN ampule), (IN within), (NNS hours), (VBN figured), (JJ worth), (VBG mentioning), (NN feel), (VBP need), (VB start), (JJ low), (JJ slow), (NN vitamin), (JJ little), (NN bite), (RB especially), (JJ fresh), (VBN shaved), (NN skin), (NN doesnhurt), (JJ wee), (JJ little), (NN sting), (MD may), (VB surprise), (VBZ dissipates), (RB quickly), (NN amber), (VBN colored), (VBN enclosed), (NNS bottles), (RB really), (VB help), (VB maintain), (NN freshness), (NN vitamin), (VBZ loses), (NN power), (VBN exposed), (NN air), (RB hence), (NN bottle), (VBP need), (NN break), (JJ open), (JJ plasticapplicator), (NN moment), (VB find), (JJ enough), (NN cover), (NN face), (NNS times), (JJ large), (NN face), (NN cover), (NN neck), (RB definitely), (NNS times), (RB always), (VBP use), (RB twice), (NN day), (VB make), (NN point), (VB keep), (NN stash), (RB well), (VBN covered), (RB hopefully), (VBG keeping), (JJ open), (NN ampule), (RB fresh), (JJ possible), (NN case), (VB go), (NN rd), (IN th), (NN day), (CD one), (VBG opening), (NN ampule), (JJ ok), (JJ productdescription), (NN box), (RB pretty), (JJ accurate), (JJ straight), (RB forward), (VBG going), (JJ odd), (NN break), (JJ open), (JJ small), (JJ glassampule), (JJ small), (NN bowling), (NN pin), (VBN shaped), (NN container), (VBP want), (NN place), (NN washcloth), (NN snap), (NN neck), (VB think), (NN material), (JJR thinner), (RB therefore), (JJ easy), (VB break), (JJ first), (NN time), (NN couple), (JJ pointy), (NNS edges), (JJ mindful), (NN break), (JJ open), (NN slip), (NN plastic), (NN cap), (NN squeeze), (NNS sides), (VBP administer), (VB put), (JJ goodly), (NN amount), (NN palm), (NN hand), (VB distribute), (NN pat), (RB gently), (VB face), (JJ watery), (IN like), (NN toner), (VBZ absorbs), (RB quickly), (NN stickiness), (VB follow), (NN moisturizer), (NN spf), (JJ sure), (VB keep), (JJ plastic), (NN cap), (VB put), (JJ tiny), (JJ plasticplug), (NNS concerns), (NN part), (NN plug), (JJ tiny), (JJ clear), (MD could), (RB easily), (VB lost), (NN plug), (JJ good), (MD could), (VB plug), (NN captop), (NNS hugs), (NN cap), (NN nozzle), (RB rather), (NN shape), (NN styleplug), (NN glassbottle), (MD may), (JJ cumbersome), (NNS folks), (VB break), (NN store), (RB properly), (RB well), (NNS quirks), (NN dispensercap), (NN plugcap), (MD might), (VB turn), (NNS people), (NNS sorts), (NN skin), (NNS rituals), (VBG adding), (NN dealbreaker), (VBN wanted), (VB mention), (NN testing), (NNS purposes), (NNS days), (RB quite), (JJ enough), (JJ productdescription), (NNS states), (VBG talking), (JJ clinical), (NNS results), (RB first), (NN useskin), (JJR firmer), (VBZ feels), (VBN hydrated), (VB attest), (NN skin), (NN feel), (JJ hydrated), (NN skin), (RB still), (VBG maintaining), (NN firmness), (VB expect), (VB see), (NN change), (NNS days), (NN skin), (VBZ looks), (JJR smoother), (NN radiant), (RB already), (VB use), (NN vitamin), (VB run), (JJ new), (NN sourcevitamin), (RB well), (NNS ingredients), (NN help), (VB make), (NN skin), (NN look), (JJ radiant), (NN month), (RB visibly), (VBN reduced), (NNS wrinkles), (VBN resurfaced), (NN skin), (NN texture), (VBN run), (IN unless), (VB continue), (VB get), (JJ extra), (NN use), (CD two), (NN ampule), (VBG focusing), (NN corner), (NN mouth), (NN area), (VBP seem), (NN line), (CD two), (NN creeping), (MD would), (VB expect), (VBN reduced), (NNS wrinkles), (NNS users), (MD may), (JJ familiar), (JJ hyaluronic), (NN acid), (IN since), (JJ parched), (NN skin), (VBP make), (NNS wrinkles), (VBP look), (RBR worse), (JJ parched), (NN dehydrate), (NN skin), (RB likely), (VB see), (JJ impressive), (JJ immediate), (NNS results), (JJ worth), (RB overall), (RB maybe), (NN think), (MD would), (VB make), (JJ awesome), (NN addition), (NN travel), (NN bag), (JJ willing), (NN mess), (JJ individual), (JJ tiny), (NNS bottles), (VBN combined), (NNS ingredients), (JJ good), (NNS problems), (VBZ seems), (JJ matter), (NN bottlestyle), (JJ willing), (VB spend), (JJ complete), (NN list), (NNS ingredients), (IN per), (NN brandweb), (NN webpage), (NN aqua), (NN watereau), (NN ascorbic), (NN acid), (RB butyleneglycol), (NN glycoldipropylene), (RB dipropyleneglycol), (RB glycolglycerin), (NN glycerinsodium), (NN sodiumhyaluronate), (VBN hydrolyzed), (NN riceprotein), (VBN hydrolyzed), (NN hyaluronic), (NN acid), (VBN hydrolyzed), (NN lupine), (NN proteinpentylene), (RB pentyleneglycol), (NN glycolcode), (. codei), None]\n",
            "  transitions:[Shift, OpenConstituent(('NP',)), Shift, Shift, Shift, CloseConstituent, OpenConstituent(('NP',)), Shift, OpenConstituent(('ADJP',)), Shift, OpenConstituent(('ADJP',)), Shift, CloseConstituent, CloseConstituent, CloseConstituent, OpenConstituent(('S',)), Shift, OpenConstituent(('VP',)), Shift, OpenConstituent(('VP',)), Shift, OpenConstituent(('VP',)), Shift, OpenConstituent(('VP',)), Shift, OpenConstituent(('NP',)), Shift, Shift, Shift, Shift, CloseConstituent, Shift, OpenConstituent(('VP',)), Shift, OpenConstituent(('ADJP',)), Shift, CloseConstituent, OpenConstituent(('NP',)), Shift, CloseConstituent, OpenConstituent(('S',)), Shift, OpenConstituent(('VP',)), Shift, OpenConstituent(('SBAR',)), Shift, OpenConstituent(('NP',)), Shift, CloseConstituent, OpenConstituent(('S',)), Shift, OpenConstituent(('VP',)), Shift, OpenConstituent(('NP',)), Shift, CloseConstituent, OpenConstituent(('NP',)), Shift, OpenConstituent(('VP',)), Shift, OpenConstituent(('NML',)), Shift, CloseConstituent, OpenConstituent(('NML',)), Shift, Shift, CloseConstituent, OpenConstituent(('NML',)), Shift, CloseConstituent, OpenConstituent(('NP',)), Shift, Shift, Shift, CloseConstituent, OpenConstituent(('NP',)), Shift, OpenConstituent(('VP',)), Shift, OpenConstituent(('NP',)), Shift, CloseConstituent, OpenConstituent(('S',)), Shift, OpenConstituent(('VP',)), Shift, OpenConstituent(('NML',)), Shift, CloseConstituent, OpenConstituent(('NP',)), Shift, Shift, Shift, CloseConstituent, OpenConstituent(('S',)), Shift, OpenConstituent(('ADVP',)), CloseConstituent, Shift, OpenConstituent(('VP',)), Shift, OpenConstituent(('NP',)), Shift, Shift, Shift, Shift, Shift, CloseConstituent, OpenConstituent(('NP',)), Shift, OpenConstituent(('VP',)), Shift, OpenConstituent(('NP',)), CloseConstituent, OpenConstituent(('S',)), Shift, OpenConstituent(('ADVP',)), CloseConstituent, Shift, OpenConstituent(('VP',)), Shift, OpenConstituent(('NP',)), Shift, Shift, OpenConstituent(('NML',)), Shift, CloseConstituent, Shift, CloseConstituent, OpenConstituent(('NP',)), Shift, OpenConstituent(('NP',)), CloseConstituent, CloseConstituent, CloseConstituent, CloseConstituent, CloseConstituent, CloseConstituent, CloseConstituent, CloseConstituent, OpenConstituent(('SBAR',)), CloseConstituent, CloseConstituent, CloseConstituent, CloseConstituent, CloseConstituent, CloseConstituent, CloseConstituent, OpenConstituent(('S',)), Shift, OpenConstituent(('VP',)), Shift, OpenConstituent(('VP',)), Shift, OpenConstituent(('NP',)), Shift, Shift, CloseConstituent, OpenConstituent(('NP',)), Shift, OpenConstituent(('VP',)), Shift, OpenConstituent(('NP',)), Shift, CloseConstituent, OpenConstituent(('S',)), Shift, OpenConstituent(('VP',)), Shift, OpenConstituent(('NP',)), Shift, CloseConstituent, OpenConstituent(('S',)), Shift, OpenConstituent(('ADJP',)), Shift, CloseConstituent, OpenConstituent(('NP',)), Shift, OpenConstituent(('NML',)), Shift, CloseConstituent, Shift, CloseConstituent, OpenConstituent(('NP',)), Shift, OpenConstituent(('NP',)), Shift, Shift, CloseConstituent, OpenConstituent(('S',)), Shift, OpenConstituent(('VP',)), Shift, OpenConstituent(('NP',)), Shift, CloseConstituent, OpenConstituent(('S',)), Shift, OpenConstituent(('VP',)), Shift, OpenConstituent(('NP',)), Shift, Shift, Shift, CloseConstituent, OpenConstituent(('NP',)), Shift, OpenConstituent(('ADVP',)), CloseConstituent, OpenConstituent(('VP',)), Shift, OpenConstituent(('NP',)), Shift, CloseConstituent, Shift, OpenConstituent(('VP',)), Shift, OpenConstituent(('NP',)), Shift, CloseConstituent, OpenConstituent(('S',)), Shift, OpenConstituent(('VP',)), Shift, OpenConstituent(('NML',)), Shift, CloseConstituent, OpenConstituent(('NML',)), Shift, CloseConstituent, OpenConstituent(('NP',)), Shift, Shift, Shift, CloseConstituent, OpenConstituent(('S',)), Shift, OpenConstituent(('VP',)), Shift, OpenConstituent(('NP',)), Shift, Shift, Shift, OpenConstituent(('NML',)), Shift, CloseConstituent, Shift, CloseConstituent, OpenConstituent(('NP',)), Shift, OpenConstituent(('NP',)), Shift, Shift, CloseConstituent, CloseConstituent, CloseConstituent, CloseConstituent, CloseConstituent, CloseConstituent, CloseConstituent, OpenConstituent(('S',)), CloseConstituent, CloseConstituent, CloseConstituent, CloseConstituent, CloseConstituent, OpenConstituent(('SBAR',)), CloseConstituent, CloseConstituent, CloseConstituent, OpenConstituent(('SBAR',)), CloseConstituent, CloseConstituent, Shift, OpenConstituent(('VP',)), Shift, OpenConstituent(('VP',)), Shift, OpenConstituent(('NP',)), Shift, OpenConstituent(('NML',)), Shift, CloseConstituent, Shift, Shift, Shift, CloseConstituent, OpenConstituent(('S',)), Shift, OpenConstituent(('VP',)), Shift, OpenConstituent(('VP',)), Shift, OpenConstituent(('NP',)), Shift, CloseConstituent, OpenConstituent(('NP',)), Shift, OpenConstituent(('ADVP',)), CloseConstituent, OpenConstituent(('VP',)), Shift, Shift, OpenConstituent(('VP',)), Shift, OpenConstituent(('ADVP',)), CloseConstituent, Shift, OpenConstituent(('VP',)), Shift, OpenConstituent(('NP',)), Shift, CloseConstituent, Shift, OpenConstituent(('ADVP',)), CloseConstituent, OpenConstituent(('S',)), Shift, OpenConstituent(('VP',)), Shift, OpenConstituent(('NP',)), Shift, CloseConstituent, Shift, OpenConstituent(('NP',)), Shift, CloseConstituent, Shift, OpenConstituent(('VP',)), Shift, OpenConstituent(('NP',)), Shift, CloseConstituent, Shift, OpenConstituent(('ADVP',)), CloseConstituent, OpenConstituent(('NP',)), Shift, CloseConstituent, CloseConstituent, OpenConstituent(('S',)), CloseConstituent, CloseConstituent, CloseConstituent, Shift, OpenConstituent(('ADVP',)), CloseConstituent, OpenConstituent(('S',)), Shift, OpenConstituent(('VP',)), Shift, OpenConstituent(('NP',)), Shift, Shift, CloseConstituent, OpenConstituent(('S',)), Shift, OpenConstituent(('VP',)), Shift, OpenConstituent(('VP',)), Shift, OpenConstituent(('NP',)), Shift, Shift, CloseConstituent, OpenConstituent(('S',)), Shift, OpenConstituent(('VP',)), Shift, OpenConstituent(('NP',)), Shift, CloseConstituent, OpenConstituent(('NP',)), Shift, OpenConstituent(('PP',)), Shift, OpenConstituent(('NP',)), CloseConstituent, OpenConstituent(('NP',)), Shift, OpenConstituent(('VP',)), Shift, OpenConstituent(('ADJP',)), Shift, OpenConstituent(('VP',)), Shift, OpenConstituent(('NP',)), CloseConstituent, CloseConstituent, OpenConstituent(('S',)), CloseConstituent, CloseConstituent, OpenConstituent(('S',)), CloseConstituent, CloseConstituent, CloseConstituent, CloseConstituent, CloseConstituent, OpenConstituent(('S',)), Shift, OpenConstituent(('VP',)), Shift, OpenConstituent(('VP',)), Shift, OpenConstituent(('NP',)), Shift, Shift, Shift, Shift, CloseConstituent, Shift, OpenConstituent(('ADVP',)), CloseConstituent, OpenConstituent(('NP',)), Shift, Shift, Shift, Shift, Shift, Shift, Shift, CloseConstituent, OpenConstituent(('S',)), Shift, OpenConstituent(('VP',)), Shift, OpenConstituent(('VP',)), Shift, OpenConstituent(('NP',)), Shift, Shift, Shift, Shift, Shift, CloseConstituent, OpenConstituent(('S',)), Shift, OpenConstituent(('ADVP',)), CloseConstituent, Shift, OpenConstituent(('VP',)), Shift, OpenConstituent(('VP',)), Shift, OpenConstituent(('NP',)), Shift, CloseConstituent, CloseConstituent, OpenConstituent(('S',)), CloseConstituent, Shift, OpenConstituent(('NP',)), Shift, Shift, Shift, CloseConstituent, CloseConstituent, CloseConstituent, OpenConstituent(('SBAR',)), CloseConstituent, CloseConstituent, CloseConstituent, CloseConstituent, OpenConstituent(('SBAR',)), CloseConstituent, CloseConstituent, OpenConstituent(('S',)), CloseConstituent, CloseConstituent, CloseConstituent, OpenConstituent(('SBAR',)), CloseConstituent, CloseConstituent, CloseConstituent, OpenConstituent(('SBAR',)), CloseConstituent, CloseConstituent, CloseConstituent, CloseConstituent, OpenConstituent(('SBAR',)), CloseConstituent, CloseConstituent, CloseConstituent, CloseConstituent, OpenConstituent(('S',)), CloseConstituent, CloseConstituent, OpenConstituent(('S',)), CloseConstituent, CloseConstituent, CloseConstituent, CloseConstituent, OpenConstituent(('S',)), CloseConstituent, CloseConstituent, CloseConstituent, Shift, OpenConstituent(('SBAR',)), Shift, OpenConstituent(('NP',)), Shift, Shift, CloseConstituent, OpenConstituent(('S',)), Shift, OpenConstituent(('ADJP',)), CloseConstituent, Shift, OpenConstituent(('ADVP',)), Shift, CloseConstituent, Shift, OpenConstituent(('VP',)), Shift, OpenConstituent(('NP',)), Shift, Shift, Shift, CloseConstituent, OpenConstituent(('S',)), Shift, OpenConstituent(('NP',)), Shift, OpenConstituent(('NML',)), Shift, CloseConstituent, Shift, CloseConstituent, Shift, OpenConstituent(('ADVP',)), CloseConstituent, Shift, OpenConstituent(('NP',)), CloseConstituent, Shift, OpenConstituent(('ADVP',)), CloseConstituent, Shift, OpenConstituent(('VP',)), Shift, OpenConstituent(('NP',)), Shift, CloseConstituent, OpenConstituent(('NP',)), Shift, OpenConstituent(('VP',)), Shift, OpenConstituent(('NP',)), CloseConstituent, Shift, OpenConstituent(('VP',)), Shift, OpenConstituent(('NP',)), CloseConstituent, OpenConstituent(('NP',)), Shift, OpenConstituent(('ADJP',)), Shift, CloseConstituent, CloseConstituent, Shift, OpenConstituent(('ADVP',)), CloseConstituent, Shift, OpenConstituent(('VP',)), Shift, OpenConstituent(('NP',)), Shift, CloseConstituent, Shift, OpenConstituent(('ADJP',)), Shift, CloseConstituent, OpenConstituent(('NP',)), Shift, CloseConstituent, OpenConstituent(('S',)), Shift, OpenConstituent(('VP',)), Shift, OpenConstituent(('NP',)), CloseConstituent, Shift, OpenConstituent(('PP',)), Shift, OpenConstituent(('NP',)), Shift, OpenConstituent(('NML',)), Shift, Shift, CloseConstituent, Shift, Shift, Shift, CloseConstituent, OpenConstituent(('NP',)), Shift, OpenConstituent(('ADJP',)), Shift, CloseConstituent, OpenConstituent(('ADJP',)), Shift, Shift, OpenConstituent(('ADVP',)), CloseConstituent, CloseConstituent, OpenConstituent(('ADJP',)), Shift, OpenConstituent(('VP',)), Shift, OpenConstituent(('NP',)), Shift, Shift, Shift, Shift, Shift, Shift, Shift, CloseConstituent, OpenConstituent(('S',)), Shift, OpenConstituent(('VP',)), Shift, OpenConstituent(('NP',)), CloseConstituent, OpenConstituent(('S',)), Shift, OpenConstituent(('VP',)), Shift, OpenConstituent(('NP',)), Shift, OpenConstituent(('NML',)), Shift, CloseConstituent, Shift, CloseConstituent, OpenConstituent(('S',)), Shift, OpenConstituent(('VP',)), Shift, OpenConstituent(('ADJP',)), Shift, CloseConstituent, OpenConstituent(('S',)), Shift, OpenConstituent(('ADJP',)), Shift, CloseConstituent, OpenConstituent(('NP',)), Shift, Shift, Shift, CloseConstituent, OpenConstituent(('NP',)), Shift, OpenConstituent(('NP',)), Shift, Shift, CloseConstituent, OpenConstituent(('S',)), Shift, OpenConstituent(('VP',)), Shift, OpenConstituent(('VP',)), Shift, OpenConstituent(('NP',)), Shift, OpenConstituent(('NML',)), Shift, Shift, CloseConstituent, OpenConstituent(('NML',)), Shift, CloseConstituent, Shift, CloseConstituent, OpenConstituent(('S',)), Shift, OpenConstituent(('VP',)), Shift, OpenConstituent(('VP',)), Shift, OpenConstituent(('NP',)), Shift, CloseConstituent, Shift, OpenConstituent(('NP',)), Shift, CloseConstituent, OpenConstituent(('NP',)), Shift, OpenConstituent(('VP',)), Shift, OpenConstituent(('NP',)), CloseConstituent, Shift, OpenConstituent(('ADVP',)), CloseConstituent, Shift, OpenConstituent(('VP',)), Shift, OpenConstituent(('ADJP',)), CloseConstituent, OpenConstituent(('S',)), CloseConstituent, Shift, OpenConstituent(('PP',)), Shift, OpenConstituent(('NP',)), CloseConstituent, OpenConstituent(('S',)), Shift, OpenConstituent(('VP',)), Shift, OpenConstituent(('ADVP',)), CloseConstituent, Shift, OpenConstituent(('NP',)), Shift, Shift, Shift, CloseConstituent, OpenConstituent(('NP',)), Shift, OpenConstituent(('ADJP',)), Shift, OpenConstituent(('VP',)), Shift, OpenConstituent(('NP',)), Shift, CloseConstituent, Shift, OpenConstituent(('VP',)), Shift, OpenConstituent(('NP',)), Shift, Shift, CloseConstituent, Shift, OpenConstituent(('NP',)), Shift, CloseConstituent, OpenConstituent(('NP',)), Shift, OpenConstituent(('ADJP',)), Shift, CloseConstituent, CloseConstituent, OpenConstituent(('S',)), Shift, OpenConstituent(('VP',)), Shift, OpenConstituent(('ADVP',)), CloseConstituent, Shift, OpenConstituent(('VP',)), Shift, OpenConstituent(('NP',)), CloseConstituent, OpenConstituent(('NP',)), Shift, OpenConstituent(('ADJP',)), Shift, OpenConstituent(('VP',)), Shift, OpenConstituent(('VP',)), Shift, OpenConstituent(('NP',)), Shift, Shift, Shift, CloseConstituent, OpenConstituent(('NP',)), Shift, OpenConstituent(('ADVP',)), CloseConstituent, OpenConstituent(('VP',)), Shift, Shift, OpenConstituent(('NP',)), Shift, CloseConstituent, CloseConstituent, CloseConstituent, CloseConstituent, CloseConstituent, OpenConstituent(('S',)), CloseConstituent, OpenConstituent(('SBAR',)), CloseConstituent, CloseConstituent, CloseConstituent, OpenConstituent(('S',)), Shift, OpenConstituent(('VP',)), Shift, OpenConstituent(('ADJP',)), Shift, OpenConstituent(('NP',)), CloseConstituent, OpenConstituent(('S',)), Shift, OpenConstituent(('VP',)), Shift, OpenConstituent(('NP',)), CloseConstituent, Shift, OpenConstituent(('ADVP',)), Shift, CloseConstituent, Shift, OpenConstituent(('NP',)), Shift, Shift, CloseConstituent, OpenConstituent(('S',)), Shift, OpenConstituent(('VP',)), Shift, OpenConstituent(('VP',)), Shift, OpenConstituent(('NP',)), CloseConstituent, Shift, OpenConstituent(('NP',)), Shift, Shift, CloseConstituent, OpenConstituent(('NP',)), Shift, OpenConstituent(('VP',)), Shift, OpenConstituent(('NP',)), CloseConstituent, CloseConstituent, CloseConstituent, CloseConstituent, CloseConstituent, CloseConstituent, Shift, Shift, OpenConstituent(('NP',)), Shift, Shift, Shift, CloseConstituent, OpenConstituent(('NP',)), Shift, OpenConstituent(('ADJP',)), Shift, CloseConstituent, OpenConstituent(('NP',)), Shift, Shift, CloseConstituent, CloseConstituent, OpenConstituent(('NP',)), Shift, OpenConstituent(('VP',)), Shift, OpenConstituent(('NP',)), Shift, CloseConstituent, CloseConstituent, CloseConstituent, OpenConstituent(('S',)), Shift, OpenConstituent(('ADVP',)), CloseConstituent, Shift, OpenConstituent(('VP',)), Shift, OpenConstituent(('ADJP',)), CloseConstituent, CloseConstituent, CloseConstituent, CloseConstituent, CloseConstituent, OpenConstituent(('SBAR',)), CloseConstituent, CloseConstituent, CloseConstituent, CloseConstituent, OpenConstituent(('SBAR',)), CloseConstituent, CloseConstituent, CloseConstituent, CloseConstituent, OpenConstituent(('SBAR',)), CloseConstituent, CloseConstituent, OpenConstituent(('S',)), CloseConstituent, CloseConstituent, OpenConstituent(('S',)), CloseConstituent, CloseConstituent, CloseConstituent, CloseConstituent, CloseConstituent, CloseConstituent, CloseConstituent, OpenConstituent(('S',)), CloseConstituent, CloseConstituent, CloseConstituent, OpenConstituent(('S',)), Shift, OpenConstituent(('VP',)), Shift, OpenConstituent(('VP',)), Shift, OpenConstituent(('VP',)), Shift, OpenConstituent(('NP',)), Shift, Shift, Shift, CloseConstituent, OpenConstituent(('NP',)), Shift, OpenConstituent(('ADVP',)), CloseConstituent, OpenConstituent(('VP',)), Shift, Shift, OpenConstituent(('NP',)), CloseConstituent, CloseConstituent, CloseConstituent, CloseConstituent, OpenConstituent(('S',)), CloseConstituent, CloseConstituent, OpenConstituent(('S',)), CloseConstituent, CloseConstituent, CloseConstituent, OpenConstituent(('SBAR',)), CloseConstituent, CloseConstituent, OpenConstituent(('S',)), CloseConstituent, CloseConstituent, CloseConstituent, OpenConstituent(('SBAR',)), CloseConstituent, CloseConstituent, OpenConstituent(('S',)), CloseConstituent, CloseConstituent, CloseConstituent, OpenConstituent(('SBAR',)), CloseConstituent, CloseConstituent, Shift, OpenConstituent(('VP',)), Shift, OpenConstituent(('VP',)), Shift, OpenConstituent(('NP',)), Shift, CloseConstituent, OpenConstituent(('NP',)), Shift, OpenConstituent(('NP',)), CloseConstituent, OpenConstituent(('S',)), Shift, OpenConstituent(('VP',)), Shift, OpenConstituent(('NP',)), Shift, CloseConstituent, OpenConstituent(('S',)), Shift, OpenConstituent(('ADVP',)), CloseConstituent, Shift, OpenConstituent(('VP',)), Shift, OpenConstituent(('NP',)), Shift, CloseConstituent, Shift, OpenConstituent(('NP',)), Shift, CloseConstituent, Shift, OpenConstituent(('ADVP',)), CloseConstituent, Shift, OpenConstituent(('VP',)), Shift, OpenConstituent(('NP',)), CloseConstituent, OpenConstituent(('S',)), Shift, OpenConstituent(('VP',))]\n",
            "  constituents:[(NP (NP (NN ampoulepack) (VB see) (NN day) (NN pack)) (ADJP (JJ latter) (ADJP (RB fairly) (VBN priced)))), <stanza.models.constituency.parse_transitions.Dummy object at 0x7fe925d45090>, (VBP continue), <stanza.models.constituency.parse_transitions.Dummy object at 0x7fe925d45110>, (VBG starting), <stanza.models.constituency.parse_transitions.Dummy object at 0x7fe925d458d0>, (MD would), <stanza.models.constituency.parse_transitions.Dummy object at 0x7fe925d45a10>, (VB spring), <stanza.models.constituency.parse_transitions.Dummy object at 0x7fe925d459d0>, (NP (JJR larger) (VB pack) (JJS least) (JJ full) (NN month)), (VB determine), <stanza.models.constituency.parse_transitions.Dummy object at 0x7fe925d45290>, (NP (ADJP (JJ good) (JJ enough)) (NNS results)), <stanza.models.constituency.parse_transitions.Dummy object at 0x7fe925d45bd0>, (VB continue), <stanza.models.constituency.parse_transitions.Dummy object at 0x7fe925d45810>, (VBN said), <stanza.models.constituency.parse_transitions.Dummy object at 0x7fe925d45690>, (NP (NN combination) (NNS ingredients)), <stanza.models.constituency.parse_transitions.Dummy object at 0x7fe925d45d90>, (VBP seem), <stanza.models.constituency.parse_transitions.Dummy object at 0x7fe925d45050>, (NP (NP (JJ beneficial) (NN love)) (VP (VBG using) (NP (NP (NML (NML (NML (NN vitamin) (NN brightening)) (JJ hyaluronic) (NN acid)) (NN humectant)) (NN waterretention) (NN addition) (NN plant)) (VP (VBN based) (S (NP (NNS peptides) (NNS phytopeptides)) (VP (JJ riceprotein) (SBAR (S (NP (NML (NN lupine) (NN proteinclaim)) (NN help) (NN skin) (NN firmness)) (ADVP (RB already)) (VP (VBP use) (NP (NP (JJ first) (CD two) (VBD tried) (JJ latter) (NN routine) (NN plant)) (VP (VBN based) (S (NP (NN sense)) (ADVP (RB typically)) (VP (VB use) (NP (NP (NN animal) (VBN sourced) (NML (VBN hydrolyzed) (NN protein)) (NNS peptides)) (NP (NNS partdon)))))))))))))))), <stanza.models.constituency.parse_transitions.Dummy object at 0x7fe927647750>, (VB expect), <stanza.models.constituency.parse_transitions.Dummy object at 0x7fe925d45f10>, (VB see), <stanza.models.constituency.parse_transitions.Dummy object at 0x7fe925d45990>, (NP (JJ much) (NN change) (NN skin)), <stanza.models.constituency.parse_transitions.Dummy object at 0x7fe927647f90>, (VBN given), <stanza.models.constituency.parse_transitions.Dummy object at 0x7fe927647b50>, (NP (NN familiarity) (NNS ingredients)), <stanza.models.constituency.parse_transitions.Dummy object at 0x7fe929e5f1d0>, (VBP say), <stanza.models.constituency.parse_transitions.Dummy object at 0x7fe929e5fd90>, (NP (JJ helpful) (NN age)), <stanza.models.constituency.parse_transitions.Dummy object at 0x7fe929e5f3d0>, (NP (NP (ADJP (RB pretty) (JJ much)) (NML (NN skin) (NN type)) (NNS notes)) (SBAR (S (NP (JJ hyaluronicacid) (JJ true) (NN acidbtw)) (VP (VBZ acts) (SBAR (S (NP (NN humectant) (NN drawsmoisture)) (VP (JJ important) (NP (NP (NN lock) (NN moisturizer) (JJ occlusive) (NN oiletc)) (VP (ADVP (RB especially)) (NP (JJ dry) (NN environment)) (S (VP (VB see) (S (NP (JJ hyaluronic) (NN acid)) (VP (NN draw) (S (NP (NML (NML (NN moisture) (NN skin)) (NN moisture)) (NN air) (NN draw) (NN skin)) (VP (VB make) (NP (NP (NN skin) (VBN parched) (VBG locking) (NML (JJ hyaluronic) (NN acid)) (NN brand)) (NP (JJ new) (VBG using) (NN vitamin)))))))))))))))))), (VBN recommended), <stanza.models.constituency.parse_transitions.Dummy object at 0x7fe91ceb8810>, (NN start), <stanza.models.constituency.parse_transitions.Dummy object at 0x7fe929e5fd10>, (S (NP (JJR lower) (NML (NN percentage) (NN mid)) (NN range) (JJS highest) (NNS serums)) (VP (VBP know) (S (VP (VB manage) (NP (NP (JJS purest) (NN form)) (VP (ADVP (RB typically)) (NN powder) (S (VP (VBG using) (ADVP (RB simply)) (S (VP (VB use) (NP (JJR less) (NN start)) (S (ADVP (RB instead)) (VP (VBG using) (NP (NN morning) (NN night)) (NP (DT every) (NN day)) (S (VP (VB use) (NP (DT every) (NN day)) (NP (ADVP (RB maybe)) (NN day)))))) (S (ADVP (RB maybe)) (VP (VB aim) (SBAR (S (NP (NNS doses) (NN bottle) (NN know)) (VP (MD may) (VP (VB interfere) (SBAR (S (NP (JJ ultimate) (NN freshness) (NNS directions)) (VP (VB say) (SBAR (S (NP (NP (VB use) (NN ampule)) (PP (IN within) (NP (NP (NNS hours)) (VP (VBN figured) (S (ADJP (JJ worth) (S (VP (VBG mentioning) (NP (NN feel)))))))))) (VP (VBP need) (S (VP (VB start) (NP (JJ low) (JJ slow) (NN vitamin) (JJ little) (NN bite)) (SBAR (S (NP (ADVP (RB especially)) (JJ fresh) (VBN shaved) (NN skin) (NN doesnhurt) (JJ wee) (JJ little) (NN sting)) (VP (MD may) (VP (VB surprise) (SBAR (S (NP (VBZ dissipates) (RB quickly) (NN amber) (VBN colored) (VBN enclosed) (NNS bottles)) (ADVP (RB really)) (VP (VB help) (S (VP (VB maintain) (NP (NN freshness) (NN vitamin)))) (NP (VBZ loses) (NN power) (VBN exposed) (NN air))))))))))))))))))))))))))))))))), (RB hence), <stanza.models.constituency.parse_transitions.Dummy object at 0x7fe925c53350>, (NP (NN bottle) (VBP need) (NN break)), <stanza.models.constituency.parse_transitions.Dummy object at 0x7fe9617407d0>, (ADJP (JJ open)), (ADVP (JJ plasticapplicator) (NN moment)), (VB find), <stanza.models.constituency.parse_transitions.Dummy object at 0x7fe929e5f710>, (NP (JJ enough) (NN cover) (NN face) (NNS times)), <stanza.models.constituency.parse_transitions.Dummy object at 0x7fe925c6e3d0>, (NP (JJ large) (NML (NN face) (NN cover)) (NN neck)), (ADVP (RB definitely)), (NP (NNS times)), (ADVP (RB always)), (VBP use), <stanza.models.constituency.parse_transitions.Dummy object at 0x7fe929e5f350>, (NP (RB twice) (NN day)), <stanza.models.constituency.parse_transitions.Dummy object at 0x7fe929e5ff90>, (VB make), <stanza.models.constituency.parse_transitions.Dummy object at 0x7fe929e5f590>, (NP (NN point)), (VB keep), <stanza.models.constituency.parse_transitions.Dummy object at 0x7fe925c6ef50>, (NP (NP (NN stash)) (ADJP (RB well) (VBN covered))), (ADVP (RB hopefully)), (VBG keeping), <stanza.models.constituency.parse_transitions.Dummy object at 0x7fe91ce5eb50>, (NP (JJ open) (NN ampule)), (NP (ADJP (RB fresh) (JJ possible)) (NN case)), <stanza.models.constituency.parse_transitions.Dummy object at 0x7fe91ce5ee10>, (VB go), <stanza.models.constituency.parse_transitions.Dummy object at 0x7fe91ce5ea90>, (NP (NN rd)), (IN th), <stanza.models.constituency.parse_transitions.Dummy object at 0x7fe91ce5ea10>, (NP (NN day) (NML (CD one) (VBG opening) (NN ampule)) (JJ ok) (JJ productdescription) (NN box)), <stanza.models.constituency.parse_transitions.Dummy object at 0x7fe925c6e090>, (ADJP (ADJP (RB pretty) (JJ accurate)) (JJ straight) (ADVP (RB forward))), <stanza.models.constituency.parse_transitions.Dummy object at 0x7fe925c6ea10>, (VBG going), <stanza.models.constituency.parse_transitions.Dummy object at 0x7fe91ce66710>, (NP (JJ odd) (NN break) (JJ open) (JJ small) (JJ glassampule) (JJ small) (NN bowling) (NN pin)), <stanza.models.constituency.parse_transitions.Dummy object at 0x7fe91ce66c10>, (VBN shaped), <stanza.models.constituency.parse_transitions.Dummy object at 0x7fe91ce66b10>, (NP (NN container)), <stanza.models.constituency.parse_transitions.Dummy object at 0x7fe91ce660d0>, (VBP want), <stanza.models.constituency.parse_transitions.Dummy object at 0x7fe91ce66210>, (NP (NN place) (NML (NN washcloth) (NN snap)) (NN neck)), <stanza.models.constituency.parse_transitions.Dummy object at 0x7fe91ce66810>, (VB think), <stanza.models.constituency.parse_transitions.Dummy object at 0x7fe91ce666d0>, (ADJP (NN material) (JJR thinner)), <stanza.models.constituency.parse_transitions.Dummy object at 0x7fe91ce66910>, (NP (NP (ADJP (RB therefore) (JJ easy)) (VB break) (JJ first) (NN time)) (SBAR (S (NP (NN couple) (JJ pointy) (NNS edges)) (VP (JJ mindful) (S (VP (NN break) (SBAR (S (NP (JJ open) (NML (NML (NN slip) (NN plastic) (NN cap)) (NN squeeze)) (NNS sides)) (VP (VBP administer) (S (VP (VB put) (NP (JJ goodly) (NN amount)) (SBAR (S (NP (NP (NN palm) (NN hand)) (VP (VB distribute) (NP (NN pat)) (ADVP (RB gently)) (S (VP (VB face) (S (ADJP (JJ watery))) (PP (IN like) (S (NP (NN toner)) (VP (VBZ absorbs) (ADVP (RB quickly)) (NP (NP (NN stickiness) (VB follow) (NN moisturizer) (NN spf)) (ADJP (JJ sure) (S (VP (VB keep) (NP (JJ plastic) (NN cap)) (S (VP (VB put) (NP (JJ tiny) (JJ plasticplug) (NNS concerns)) (SBAR (S (NP (NP (NN part) (NN plug)) (ADJP (JJ tiny) (JJ clear))) (VP (MD could) (ADVP (RB easily)) (VP (VB lost) (SBAR (S (NP (NP (NN plug)) (ADJP (JJ good) (SBAR (S (VP (MD could) (VP (VB plug) (NP (NP (NN captop) (NNS hugs) (NN cap) (NN nozzle)) (VP (ADVP (RB rather)) (NN shape) (NP (NN styleplug) (NN glassbottle)))))))))) (VP (MD may) (ADJP (JJ cumbersome) (SBAR (S (NP (NNS folks)) (VP (VB break) (NP (NN store)) (ADVP (RB properly) (RB well)) (S (NP (NNS quirks) (NN dispensercap) (NN plugcap)) (VP (MD might) (VP (VB turn) (NP (NNS people)) (NP (NP (NNS sorts) (NN skin) (NNS rituals)) (VP (VBG adding) (NP (NN dealbreaker))))))) (VBN wanted) (S (NP (NP (NP (VB mention) (NN testing) (NNS purposes) (NNS days)) (NP (ADJP (RB quite) (JJ enough)) (JJ productdescription) (NNS states))) (VP (VBG talking) (NP (JJ clinical) (NNS results)))) (ADVP (RB first)) (VP (NN useskin) (ADJP (JJR firmer)))))))))))))))))))))))))))) (VP (VBZ feels) (S (VP (VBN hydrated) (S (VP (VB attest) (NP (NP (NN skin) (NN feel) (JJ hydrated) (NN skin)) (VP (ADVP (RB still)) (VBG maintaining) (NP (NN firmness)))))))))))))))))))))), (VB expect), <stanza.models.constituency.parse_transitions.Dummy object at 0x7fe91ce5ef10>, (VB see), <stanza.models.constituency.parse_transitions.Dummy object at 0x7fe91ce5ee50>, (NP (NN change) (NNS days)), <stanza.models.constituency.parse_transitions.Dummy object at 0x7fe91d222090>, (NP (NN skin)), <stanza.models.constituency.parse_transitions.Dummy object at 0x7fe91d222710>, (VBZ looks), <stanza.models.constituency.parse_transitions.Dummy object at 0x7fe91d222a10>, (NP (JJR smoother) (NN radiant)), <stanza.models.constituency.parse_transitions.Dummy object at 0x7fe925acce50>, (ADVP (RB already)), (VB use), <stanza.models.constituency.parse_transitions.Dummy object at 0x7fe925acc210>, (NP (NN vitamin) (VB run)), (NP (JJ new) (NN sourcevitamin)), (ADVP (RB well)), (NNS ingredients), <stanza.models.constituency.parse_transitions.Dummy object at 0x7fe925acc4d0>, (NP (NN help)), <stanza.models.constituency.parse_transitions.Dummy object at 0x7fe925acc6d0>, (VB make), <stanza.models.constituency.parse_transitions.Dummy object at 0x7fe925acc790>])\n"
          ]
        },
        {
          "output_type": "error",
          "ename": "AssertionError",
          "evalue": "ignored",
          "traceback": [
            "\u001b[0;31m---------------------------------------------------------------------------\u001b[0m",
            "\u001b[0;31mAssertionError\u001b[0m                            Traceback (most recent call last)",
            "\u001b[0;32m<ipython-input-22-9e90735dddfb>\u001b[0m in \u001b[0;36m<module>\u001b[0;34m()\u001b[0m\n\u001b[1;32m     84\u001b[0m     \u001b[0;32mcontinue\u001b[0m\u001b[0;34m\u001b[0m\u001b[0;34m\u001b[0m\u001b[0m\n\u001b[1;32m     85\u001b[0m   \u001b[0;31m#Use a constituency parser to determine the relationship between each word\u001b[0m\u001b[0;34m\u001b[0m\u001b[0;34m\u001b[0m\u001b[0;34m\u001b[0m\u001b[0m\n\u001b[0;32m---> 86\u001b[0;31m   \u001b[0mdoc\u001b[0m \u001b[0;34m=\u001b[0m \u001b[0mnlp\u001b[0m\u001b[0;34m(\u001b[0m\u001b[0mfinaltxt\u001b[0m\u001b[0;34m)\u001b[0m\u001b[0;34m\u001b[0m\u001b[0;34m\u001b[0m\u001b[0m\n\u001b[0m\u001b[1;32m     87\u001b[0m   \u001b[0mdep_node\u001b[0m \u001b[0;34m=\u001b[0m \u001b[0;34m[\u001b[0m\u001b[0;34m]\u001b[0m\u001b[0;34m\u001b[0m\u001b[0;34m\u001b[0m\u001b[0m\n\u001b[1;32m     88\u001b[0m \u001b[0;34m\u001b[0m\u001b[0m\n",
            "\u001b[0;32m/usr/local/lib/python3.7/dist-packages/stanza/pipeline/core.py\u001b[0m in \u001b[0;36m__call__\u001b[0;34m(self, doc)\u001b[0m\n\u001b[1;32m    229\u001b[0m         assert any([isinstance(doc, str), isinstance(doc, list),\n\u001b[1;32m    230\u001b[0m                     isinstance(doc, Document)]), 'input should be either str, list or Document'\n\u001b[0;32m--> 231\u001b[0;31m         \u001b[0mdoc\u001b[0m \u001b[0;34m=\u001b[0m \u001b[0mself\u001b[0m\u001b[0;34m.\u001b[0m\u001b[0mprocess\u001b[0m\u001b[0;34m(\u001b[0m\u001b[0mdoc\u001b[0m\u001b[0;34m)\u001b[0m\u001b[0;34m\u001b[0m\u001b[0;34m\u001b[0m\u001b[0m\n\u001b[0m\u001b[1;32m    232\u001b[0m         \u001b[0;32mreturn\u001b[0m \u001b[0mdoc\u001b[0m\u001b[0;34m\u001b[0m\u001b[0;34m\u001b[0m\u001b[0m\n\u001b[1;32m    233\u001b[0m \u001b[0;34m\u001b[0m\u001b[0m\n",
            "\u001b[0;32m/usr/local/lib/python3.7/dist-packages/stanza/pipeline/core.py\u001b[0m in \u001b[0;36mprocess\u001b[0;34m(self, doc)\u001b[0m\n\u001b[1;32m    223\u001b[0m             \u001b[0;32mif\u001b[0m \u001b[0mself\u001b[0m\u001b[0;34m.\u001b[0m\u001b[0mprocessors\u001b[0m\u001b[0;34m.\u001b[0m\u001b[0mget\u001b[0m\u001b[0;34m(\u001b[0m\u001b[0mprocessor_name\u001b[0m\u001b[0;34m)\u001b[0m\u001b[0;34m:\u001b[0m\u001b[0;34m\u001b[0m\u001b[0;34m\u001b[0m\u001b[0m\n\u001b[1;32m    224\u001b[0m                 \u001b[0mprocess\u001b[0m \u001b[0;34m=\u001b[0m \u001b[0mself\u001b[0m\u001b[0;34m.\u001b[0m\u001b[0mprocessors\u001b[0m\u001b[0;34m[\u001b[0m\u001b[0mprocessor_name\u001b[0m\u001b[0;34m]\u001b[0m\u001b[0;34m.\u001b[0m\u001b[0mbulk_process\u001b[0m \u001b[0;32mif\u001b[0m \u001b[0mbulk\u001b[0m \u001b[0;32melse\u001b[0m \u001b[0mself\u001b[0m\u001b[0;34m.\u001b[0m\u001b[0mprocessors\u001b[0m\u001b[0;34m[\u001b[0m\u001b[0mprocessor_name\u001b[0m\u001b[0;34m]\u001b[0m\u001b[0;34m.\u001b[0m\u001b[0mprocess\u001b[0m\u001b[0;34m\u001b[0m\u001b[0;34m\u001b[0m\u001b[0m\n\u001b[0;32m--> 225\u001b[0;31m                 \u001b[0mdoc\u001b[0m \u001b[0;34m=\u001b[0m \u001b[0mprocess\u001b[0m\u001b[0;34m(\u001b[0m\u001b[0mdoc\u001b[0m\u001b[0;34m)\u001b[0m\u001b[0;34m\u001b[0m\u001b[0;34m\u001b[0m\u001b[0m\n\u001b[0m\u001b[1;32m    226\u001b[0m         \u001b[0;32mreturn\u001b[0m \u001b[0mdoc\u001b[0m\u001b[0;34m\u001b[0m\u001b[0;34m\u001b[0m\u001b[0m\n\u001b[1;32m    227\u001b[0m \u001b[0;34m\u001b[0m\u001b[0m\n",
            "\u001b[0;32m/usr/local/lib/python3.7/dist-packages/stanza/pipeline/constituency_processor.py\u001b[0m in \u001b[0;36mprocess\u001b[0;34m(self, document)\u001b[0m\n\u001b[1;32m     49\u001b[0m         \u001b[0mwords\u001b[0m \u001b[0;34m=\u001b[0m \u001b[0;34m[\u001b[0m\u001b[0;34m[\u001b[0m\u001b[0;34m(\u001b[0m\u001b[0mw\u001b[0m\u001b[0;34m.\u001b[0m\u001b[0mtext\u001b[0m\u001b[0;34m,\u001b[0m \u001b[0mw\u001b[0m\u001b[0;34m.\u001b[0m\u001b[0mxpos\u001b[0m\u001b[0;34m)\u001b[0m \u001b[0;32mfor\u001b[0m \u001b[0mw\u001b[0m \u001b[0;32min\u001b[0m \u001b[0ms\u001b[0m\u001b[0;34m.\u001b[0m\u001b[0mwords\u001b[0m\u001b[0;34m]\u001b[0m \u001b[0;32mfor\u001b[0m \u001b[0ms\u001b[0m \u001b[0;32min\u001b[0m \u001b[0msentences\u001b[0m\u001b[0;34m]\u001b[0m\u001b[0;34m\u001b[0m\u001b[0;34m\u001b[0m\u001b[0m\n\u001b[1;32m     50\u001b[0m         \u001b[0mtrees\u001b[0m \u001b[0;34m=\u001b[0m \u001b[0mtrainer\u001b[0m\u001b[0;34m.\u001b[0m\u001b[0mparse_tagged_words\u001b[0m\u001b[0;34m(\u001b[0m\u001b[0mself\u001b[0m\u001b[0;34m.\u001b[0m\u001b[0m_model\u001b[0m\u001b[0;34m.\u001b[0m\u001b[0mmodel\u001b[0m\u001b[0;34m,\u001b[0m \u001b[0mwords\u001b[0m\u001b[0;34m,\u001b[0m \u001b[0mself\u001b[0m\u001b[0;34m.\u001b[0m\u001b[0m_batch_size\u001b[0m\u001b[0;34m)\u001b[0m\u001b[0;34m\u001b[0m\u001b[0;34m\u001b[0m\u001b[0m\n\u001b[0;32m---> 51\u001b[0;31m         \u001b[0mdocument\u001b[0m\u001b[0;34m.\u001b[0m\u001b[0mset\u001b[0m\u001b[0;34m(\u001b[0m\u001b[0mCONSTITUENCY\u001b[0m\u001b[0;34m,\u001b[0m \u001b[0mtrees\u001b[0m\u001b[0;34m,\u001b[0m \u001b[0mto_sentence\u001b[0m\u001b[0;34m=\u001b[0m\u001b[0;32mTrue\u001b[0m\u001b[0;34m)\u001b[0m\u001b[0;34m\u001b[0m\u001b[0;34m\u001b[0m\u001b[0m\n\u001b[0m\u001b[1;32m     52\u001b[0m         \u001b[0;32mreturn\u001b[0m \u001b[0mdocument\u001b[0m\u001b[0;34m\u001b[0m\u001b[0;34m\u001b[0m\u001b[0m\n",
            "\u001b[0;32m/usr/local/lib/python3.7/dist-packages/stanza/models/common/doc.py\u001b[0m in \u001b[0;36mset\u001b[0;34m(self, fields, contents, to_token, to_sentence)\u001b[0m\n\u001b[1;32m    236\u001b[0m         \u001b[0;32mif\u001b[0m \u001b[0mto_sentence\u001b[0m\u001b[0;34m:\u001b[0m\u001b[0;34m\u001b[0m\u001b[0;34m\u001b[0m\u001b[0m\n\u001b[1;32m    237\u001b[0m             \u001b[0;32massert\u001b[0m \u001b[0mlen\u001b[0m\u001b[0;34m(\u001b[0m\u001b[0mself\u001b[0m\u001b[0;34m.\u001b[0m\u001b[0msentences\u001b[0m\u001b[0;34m)\u001b[0m \u001b[0;34m==\u001b[0m \u001b[0mlen\u001b[0m\u001b[0;34m(\u001b[0m\u001b[0mcontents\u001b[0m\u001b[0;34m)\u001b[0m\u001b[0;34m,\u001b[0m\u001b[0;31m \u001b[0m\u001b[0;31m\\\u001b[0m\u001b[0;34m\u001b[0m\u001b[0;34m\u001b[0m\u001b[0m\n\u001b[0;32m--> 238\u001b[0;31m                 \u001b[0;34m\"Contents must have the same length as the sentences\"\u001b[0m\u001b[0;34m\u001b[0m\u001b[0;34m\u001b[0m\u001b[0m\n\u001b[0m\u001b[1;32m    239\u001b[0m             \u001b[0;32mfor\u001b[0m \u001b[0msentence\u001b[0m\u001b[0;34m,\u001b[0m \u001b[0mcontent\u001b[0m \u001b[0;32min\u001b[0m \u001b[0mzip\u001b[0m\u001b[0;34m(\u001b[0m\u001b[0mself\u001b[0m\u001b[0;34m.\u001b[0m\u001b[0msentences\u001b[0m\u001b[0;34m,\u001b[0m \u001b[0mcontents\u001b[0m\u001b[0;34m)\u001b[0m\u001b[0;34m:\u001b[0m\u001b[0;34m\u001b[0m\u001b[0;34m\u001b[0m\u001b[0m\n\u001b[1;32m    240\u001b[0m                 \u001b[0;32mif\u001b[0m \u001b[0mlen\u001b[0m\u001b[0;34m(\u001b[0m\u001b[0mfields\u001b[0m\u001b[0;34m)\u001b[0m \u001b[0;34m==\u001b[0m \u001b[0;36m1\u001b[0m\u001b[0;34m:\u001b[0m\u001b[0;34m\u001b[0m\u001b[0;34m\u001b[0m\u001b[0m\n",
            "\u001b[0;31mAssertionError\u001b[0m: Contents must have the same length as the sentences"
          ]
        }
      ]
    },
    {
      "cell_type": "code",
      "metadata": {
        "id": "WutqM-dvtJH6"
      },
      "source": [
        ""
      ],
      "execution_count": null,
      "outputs": []
    },
    {
      "cell_type": "code",
      "metadata": {
        "id": "jwz2UaV5tJH6"
      },
      "source": [
        "df['review_text'][2]"
      ],
      "execution_count": null,
      "outputs": []
    },
    {
      "cell_type": "code",
      "metadata": {
        "id": "EIXSAITYtJH7",
        "colab": {
          "base_uri": "https://localhost:8080/",
          "height": 424
        },
        "outputId": "fbdd2868-9926-4179-9004-1e88bdeabac6"
      },
      "source": [
        "df"
      ],
      "execution_count": 12,
      "outputs": [
        {
          "output_type": "execute_result",
          "data": {
            "text/html": [
              "<div>\n",
              "<style scoped>\n",
              "    .dataframe tbody tr th:only-of-type {\n",
              "        vertical-align: middle;\n",
              "    }\n",
              "\n",
              "    .dataframe tbody tr th {\n",
              "        vertical-align: top;\n",
              "    }\n",
              "\n",
              "    .dataframe thead th {\n",
              "        text-align: right;\n",
              "    }\n",
              "</style>\n",
              "<table border=\"1\" class=\"dataframe\">\n",
              "  <thead>\n",
              "    <tr style=\"text-align: right;\">\n",
              "      <th></th>\n",
              "      <th>review_id</th>\n",
              "      <th>review_text</th>\n",
              "      <th>review_rating</th>\n",
              "      <th>review_title</th>\n",
              "    </tr>\n",
              "  </thead>\n",
              "  <tbody>\n",
              "    <tr>\n",
              "      <th>0</th>\n",
              "      <td>196991408</td>\n",
              "      <td>Premi¨¨re fois que j'ai essay¨¦ le 50 j'ai tou...</td>\n",
              "      <td>5.0</td>\n",
              "      <td>Premi¨¨re fois que j'ai essay¨¦ le 50 j'ai tou...</td>\n",
              "    </tr>\n",
              "    <tr>\n",
              "      <th>1</th>\n",
              "      <td>197033183</td>\n",
              "      <td>I leave this conditioner in my hair for up to ...</td>\n",
              "      <td>4.0</td>\n",
              "      <td>I leave this conditioner in my hair for up to ...</td>\n",
              "    </tr>\n",
              "    <tr>\n",
              "      <th>2</th>\n",
              "      <td>229195055</td>\n",
              "      <td>OBSESSED!! makes me glow to the gods! So smoot...</td>\n",
              "      <td>5.0</td>\n",
              "      <td>OBSESSED!! makes me glow</td>\n",
              "    </tr>\n",
              "    <tr>\n",
              "      <th>3</th>\n",
              "      <td>229199240</td>\n",
              "      <td>I¡¯ve been using this serum for a few days now...</td>\n",
              "      <td>5.0</td>\n",
              "      <td>I love it!</td>\n",
              "    </tr>\n",
              "    <tr>\n",
              "      <th>4</th>\n",
              "      <td>229200919</td>\n",
              "      <td>It was a bit thinner than I anticipated but I ...</td>\n",
              "      <td>3.0</td>\n",
              "      <td>Good</td>\n",
              "    </tr>\n",
              "    <tr>\n",
              "      <th>...</th>\n",
              "      <td>...</td>\n",
              "      <td>...</td>\n",
              "      <td>...</td>\n",
              "      <td>...</td>\n",
              "    </tr>\n",
              "    <tr>\n",
              "      <th>31479</th>\n",
              "      <td>221480246</td>\n",
              "      <td>This leave in added so much nourishment and so...</td>\n",
              "      <td>5.0</td>\n",
              "      <td>so nourishing!!</td>\n",
              "    </tr>\n",
              "    <tr>\n",
              "      <th>31480</th>\n",
              "      <td>221646682</td>\n",
              "      <td>My daughter has super curly hair, when she nap...</td>\n",
              "      <td>5.0</td>\n",
              "      <td>curly hair</td>\n",
              "    </tr>\n",
              "    <tr>\n",
              "      <th>31481</th>\n",
              "      <td>221677448</td>\n",
              "      <td>Whole Blends Castor Oil Leave-In Treatment fro...</td>\n",
              "      <td>2.0</td>\n",
              "      <td>Too much weigh down</td>\n",
              "    </tr>\n",
              "    <tr>\n",
              "      <th>31482</th>\n",
              "      <td>221699589</td>\n",
              "      <td>The texture is thick and creamy. I used it mos...</td>\n",
              "      <td>4.0</td>\n",
              "      <td>Not bad, give it a try.</td>\n",
              "    </tr>\n",
              "    <tr>\n",
              "      <th>31483</th>\n",
              "      <td>221719419</td>\n",
              "      <td>I enjoyed adding this product to my haircare r...</td>\n",
              "      <td>3.0</td>\n",
              "      <td>good leave-in conditioner</td>\n",
              "    </tr>\n",
              "  </tbody>\n",
              "</table>\n",
              "<p>31484 rows × 4 columns</p>\n",
              "</div>"
            ],
            "text/plain": [
              "       review_id  ...                                       review_title\n",
              "0      196991408  ...  Premi¨¨re fois que j'ai essay¨¦ le 50 j'ai tou...\n",
              "1      197033183  ...  I leave this conditioner in my hair for up to ...\n",
              "2      229195055  ...                           OBSESSED!! makes me glow\n",
              "3      229199240  ...                                         I love it!\n",
              "4      229200919  ...                                               Good\n",
              "...          ...  ...                                                ...\n",
              "31479  221480246  ...                                    so nourishing!!\n",
              "31480  221646682  ...                                         curly hair\n",
              "31481  221677448  ...                                Too much weigh down\n",
              "31482  221699589  ...                            Not bad, give it a try.\n",
              "31483  221719419  ...                          good leave-in conditioner\n",
              "\n",
              "[31484 rows x 4 columns]"
            ]
          },
          "metadata": {},
          "execution_count": 12
        }
      ]
    },
    {
      "cell_type": "code",
      "metadata": {
        "id": "zXh8ypNvr3RV"
      },
      "source": [
        ""
      ],
      "execution_count": null,
      "outputs": []
    }
  ]
}